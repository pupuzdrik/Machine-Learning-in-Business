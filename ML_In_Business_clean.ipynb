{
 "cells": [
  {
   "cell_type": "markdown",
   "metadata": {},
   "source": [
    "## Project description"
   ]
  },
  {
   "cell_type": "markdown",
   "metadata": {},
   "source": [
    "I work for the OilyGiant mining company. The task is to find the best place for a new well.\n",
    "\n",
    "Steps to choose the location:\n",
    "\n",
    "  Collect the oil well parameters in the selected region: oil quality and volume of reserves;\n",
    "  \n",
    "  Build a model for predicting the volume of reserves in the new wells;\n",
    "  \n",
    "  Pick the oil wells with the highest estimated values;\n",
    "  \n",
    "  Pick the region with the highest total profit for the selected oil wells.\n",
    "  \n",
    "I have data on oil samples from three regions. Parameters of each oil well in the region are already known. Build a model that will help to pick the region with the highest profit margin. Analyze potential profit and risks using the Bootstrapping technique."
   ]
  },
  {
   "cell_type": "markdown",
   "metadata": {},
   "source": [
    "## Project instructions"
   ]
  },
  {
   "cell_type": "markdown",
   "metadata": {},
   "source": [
    "### 1. Download and prepare the data. Explain the procedure."
   ]
  },
  {
   "cell_type": "code",
   "execution_count": 3,
   "metadata": {},
   "outputs": [
    {
     "name": "stdout",
     "output_type": "stream",
     "text": [
      "\u001b[33mWARNING: Retrying (Retry(total=4, connect=None, read=None, redirect=None, status=None)) after connection broken by 'ReadTimeoutError(\"HTTPSConnectionPool(host='pypi.org', port=443): Read timed out. (read timeout=15)\")': /simple/sidetable/\u001b[0m\n",
      "\u001b[33mWARNING: Retrying (Retry(total=3, connect=None, read=None, redirect=None, status=None)) after connection broken by 'ReadTimeoutError(\"HTTPSConnectionPool(host='pypi.org', port=443): Read timed out. (read timeout=15)\")': /simple/sidetable/\u001b[0m\n",
      "\u001b[33mWARNING: Retrying (Retry(total=2, connect=None, read=None, redirect=None, status=None)) after connection broken by 'ReadTimeoutError(\"HTTPSConnectionPool(host='pypi.org', port=443): Read timed out. (read timeout=15)\")': /simple/sidetable/\u001b[0m\n",
      "Collecting sidetable\n",
      "  Downloading sidetable-0.9.0-py3-none-any.whl (17 kB)\n",
      "Requirement already satisfied: pandas>=1.0 in /opt/conda/lib/python3.9/site-packages (from sidetable) (1.2.4)\n",
      "Requirement already satisfied: python-dateutil>=2.7.3 in /opt/conda/lib/python3.9/site-packages (from pandas>=1.0->sidetable) (2.8.1)\n",
      "Requirement already satisfied: pytz>=2017.3 in /opt/conda/lib/python3.9/site-packages (from pandas>=1.0->sidetable) (2021.1)\n",
      "Requirement already satisfied: numpy>=1.16.5 in /opt/conda/lib/python3.9/site-packages (from pandas>=1.0->sidetable) (1.21.1)\n",
      "Requirement already satisfied: six>=1.5 in /opt/conda/lib/python3.9/site-packages (from python-dateutil>=2.7.3->pandas>=1.0->sidetable) (1.16.0)\n",
      "Installing collected packages: sidetable\n",
      "Successfully installed sidetable-0.9.0\n"
     ]
    }
   ],
   "source": [
    "import pandas as pd\n",
    "import numpy as np\n",
    "!pip install sidetable\n",
    "import sidetable as stb"
   ]
  },
  {
   "cell_type": "code",
   "execution_count": 4,
   "metadata": {},
   "outputs": [],
   "source": [
    "import os"
   ]
  },
  {
   "cell_type": "markdown",
   "metadata": {},
   "source": [
    "Let's import the data and check the data."
   ]
  },
  {
   "cell_type": "code",
   "execution_count": 5,
   "metadata": {},
   "outputs": [
    {
     "name": "stdout",
     "output_type": "stream",
     "text": [
      "      id        f0        f1        f2     product\n",
      "0  txEyH  0.705745 -0.497823  1.221170  105.280062\n",
      "1  2acmU  1.334711 -0.340164  4.365080   73.037750\n",
      "2  409Wp  1.022732  0.151990  1.419926   85.265647\n",
      "3  iJLyR -0.032172  0.139033  2.978566  168.620776\n",
      "4  Xdl7t  1.988431  0.155413  4.751769  154.036647\n"
     ]
    }
   ],
   "source": [
    "df_0 = pd.read_csv('ML_3/geo_data_0.csv')\n",
    "print(df_0.head())"
   ]
  },
  {
   "cell_type": "code",
   "execution_count": 6,
   "metadata": {},
   "outputs": [],
   "source": [
    "df_1 =pd.read_csv('ML_3/geo_data_1.csv')"
   ]
  },
  {
   "cell_type": "code",
   "execution_count": 7,
   "metadata": {},
   "outputs": [
    {
     "name": "stdout",
     "output_type": "stream",
     "text": [
      "      id         f0         f1        f2     product\n",
      "0  kBEdx -15.001348  -8.276000 -0.005876    3.179103\n",
      "1  62mP7  14.272088  -3.475083  0.999183   26.953261\n",
      "2  vyE1P   6.263187  -5.948386  5.001160  134.766305\n",
      "3  KcrkZ -13.081196 -11.506057  4.999415  137.945408\n",
      "4  AHL4O  12.702195  -8.147433  5.004363  134.766305\n"
     ]
    }
   ],
   "source": [
    "print(df_1.head())"
   ]
  },
  {
   "cell_type": "code",
   "execution_count": 8,
   "metadata": {},
   "outputs": [
    {
     "name": "stdout",
     "output_type": "stream",
     "text": [
      "      id        f0        f1        f2     product\n",
      "0  fwXo0 -1.146987  0.963328 -0.828965   27.758673\n",
      "1  WJtFt  0.262778  0.269839 -2.530187   56.069697\n",
      "2  ovLUW  0.194587  0.289035 -5.586433   62.871910\n",
      "3  q6cA6  2.236060 -0.553760  0.930038  114.572842\n",
      "4  WPMUX -0.515993  1.716266  5.899011  149.600746\n"
     ]
    }
   ],
   "source": [
    "df_2 = pd.read_csv('ML_3/geo_data_2.csv')\n",
    "print(df_2.head())"
   ]
  },
  {
   "cell_type": "code",
   "execution_count": 9,
   "metadata": {
    "scrolled": true
   },
   "outputs": [
    {
     "name": "stdout",
     "output_type": "stream",
     "text": [
      "<class 'pandas.core.frame.DataFrame'>\n",
      "RangeIndex: 100000 entries, 0 to 99999\n",
      "Data columns (total 5 columns):\n",
      " #   Column   Non-Null Count   Dtype  \n",
      "---  ------   --------------   -----  \n",
      " 0   id       100000 non-null  object \n",
      " 1   f0       100000 non-null  float64\n",
      " 2   f1       100000 non-null  float64\n",
      " 3   f2       100000 non-null  float64\n",
      " 4   product  100000 non-null  float64\n",
      "dtypes: float64(4), object(1)\n",
      "memory usage: 3.8+ MB\n"
     ]
    }
   ],
   "source": [
    "df_0.info()"
   ]
  },
  {
   "cell_type": "code",
   "execution_count": 10,
   "metadata": {},
   "outputs": [
    {
     "name": "stdout",
     "output_type": "stream",
     "text": [
      "<class 'pandas.core.frame.DataFrame'>\n",
      "RangeIndex: 100000 entries, 0 to 99999\n",
      "Data columns (total 5 columns):\n",
      " #   Column   Non-Null Count   Dtype  \n",
      "---  ------   --------------   -----  \n",
      " 0   id       100000 non-null  object \n",
      " 1   f0       100000 non-null  float64\n",
      " 2   f1       100000 non-null  float64\n",
      " 3   f2       100000 non-null  float64\n",
      " 4   product  100000 non-null  float64\n",
      "dtypes: float64(4), object(1)\n",
      "memory usage: 3.8+ MB\n"
     ]
    }
   ],
   "source": [
    "df_1.info()"
   ]
  },
  {
   "cell_type": "code",
   "execution_count": 11,
   "metadata": {
    "scrolled": true
   },
   "outputs": [
    {
     "name": "stdout",
     "output_type": "stream",
     "text": [
      "<class 'pandas.core.frame.DataFrame'>\n",
      "RangeIndex: 100000 entries, 0 to 99999\n",
      "Data columns (total 5 columns):\n",
      " #   Column   Non-Null Count   Dtype  \n",
      "---  ------   --------------   -----  \n",
      " 0   id       100000 non-null  object \n",
      " 1   f0       100000 non-null  float64\n",
      " 2   f1       100000 non-null  float64\n",
      " 3   f2       100000 non-null  float64\n",
      " 4   product  100000 non-null  float64\n",
      "dtypes: float64(4), object(1)\n",
      "memory usage: 3.8+ MB\n"
     ]
    }
   ],
   "source": [
    "df_2.info()"
   ]
  },
  {
   "cell_type": "markdown",
   "metadata": {},
   "source": [
    "All columns except 'id' column are numerical. This 'id' column does not have any impact on target column therefore it will be dropped soon."
   ]
  },
  {
   "cell_type": "markdown",
   "metadata": {},
   "source": [
    "Let's check for the missing values."
   ]
  },
  {
   "cell_type": "code",
   "execution_count": 12,
   "metadata": {},
   "outputs": [
    {
     "data": {
      "text/html": [
       "<style  type=\"text/css\" >\n",
       "</style><table id=\"T_14637_\" ><thead>    <tr>        <th class=\"blank level0\" ></th>        <th class=\"col_heading level0 col0\" >missing</th>        <th class=\"col_heading level0 col1\" >total</th>        <th class=\"col_heading level0 col2\" >percent</th>    </tr></thead><tbody>\n",
       "                <tr>\n",
       "                        <th id=\"T_14637_level0_row0\" class=\"row_heading level0 row0\" >id</th>\n",
       "                        <td id=\"T_14637_row0_col0\" class=\"data row0 col0\" >0</td>\n",
       "                        <td id=\"T_14637_row0_col1\" class=\"data row0 col1\" >100,000</td>\n",
       "                        <td id=\"T_14637_row0_col2\" class=\"data row0 col2\" >0.00%</td>\n",
       "            </tr>\n",
       "            <tr>\n",
       "                        <th id=\"T_14637_level0_row1\" class=\"row_heading level0 row1\" >f0</th>\n",
       "                        <td id=\"T_14637_row1_col0\" class=\"data row1 col0\" >0</td>\n",
       "                        <td id=\"T_14637_row1_col1\" class=\"data row1 col1\" >100,000</td>\n",
       "                        <td id=\"T_14637_row1_col2\" class=\"data row1 col2\" >0.00%</td>\n",
       "            </tr>\n",
       "            <tr>\n",
       "                        <th id=\"T_14637_level0_row2\" class=\"row_heading level0 row2\" >f1</th>\n",
       "                        <td id=\"T_14637_row2_col0\" class=\"data row2 col0\" >0</td>\n",
       "                        <td id=\"T_14637_row2_col1\" class=\"data row2 col1\" >100,000</td>\n",
       "                        <td id=\"T_14637_row2_col2\" class=\"data row2 col2\" >0.00%</td>\n",
       "            </tr>\n",
       "            <tr>\n",
       "                        <th id=\"T_14637_level0_row3\" class=\"row_heading level0 row3\" >f2</th>\n",
       "                        <td id=\"T_14637_row3_col0\" class=\"data row3 col0\" >0</td>\n",
       "                        <td id=\"T_14637_row3_col1\" class=\"data row3 col1\" >100,000</td>\n",
       "                        <td id=\"T_14637_row3_col2\" class=\"data row3 col2\" >0.00%</td>\n",
       "            </tr>\n",
       "            <tr>\n",
       "                        <th id=\"T_14637_level0_row4\" class=\"row_heading level0 row4\" >product</th>\n",
       "                        <td id=\"T_14637_row4_col0\" class=\"data row4 col0\" >0</td>\n",
       "                        <td id=\"T_14637_row4_col1\" class=\"data row4 col1\" >100,000</td>\n",
       "                        <td id=\"T_14637_row4_col2\" class=\"data row4 col2\" >0.00%</td>\n",
       "            </tr>\n",
       "    </tbody></table>"
      ],
      "text/plain": [
       "<pandas.io.formats.style.Styler at 0x7f1ae031f490>"
      ]
     },
     "execution_count": 12,
     "metadata": {},
     "output_type": "execute_result"
    }
   ],
   "source": [
    "df_0.stb.missing(style=True)"
   ]
  },
  {
   "cell_type": "code",
   "execution_count": 13,
   "metadata": {},
   "outputs": [
    {
     "data": {
      "text/html": [
       "<style  type=\"text/css\" >\n",
       "</style><table id=\"T_d75f1_\" ><thead>    <tr>        <th class=\"blank level0\" ></th>        <th class=\"col_heading level0 col0\" >missing</th>        <th class=\"col_heading level0 col1\" >total</th>        <th class=\"col_heading level0 col2\" >percent</th>    </tr></thead><tbody>\n",
       "                <tr>\n",
       "                        <th id=\"T_d75f1_level0_row0\" class=\"row_heading level0 row0\" >id</th>\n",
       "                        <td id=\"T_d75f1_row0_col0\" class=\"data row0 col0\" >0</td>\n",
       "                        <td id=\"T_d75f1_row0_col1\" class=\"data row0 col1\" >100,000</td>\n",
       "                        <td id=\"T_d75f1_row0_col2\" class=\"data row0 col2\" >0.00%</td>\n",
       "            </tr>\n",
       "            <tr>\n",
       "                        <th id=\"T_d75f1_level0_row1\" class=\"row_heading level0 row1\" >f0</th>\n",
       "                        <td id=\"T_d75f1_row1_col0\" class=\"data row1 col0\" >0</td>\n",
       "                        <td id=\"T_d75f1_row1_col1\" class=\"data row1 col1\" >100,000</td>\n",
       "                        <td id=\"T_d75f1_row1_col2\" class=\"data row1 col2\" >0.00%</td>\n",
       "            </tr>\n",
       "            <tr>\n",
       "                        <th id=\"T_d75f1_level0_row2\" class=\"row_heading level0 row2\" >f1</th>\n",
       "                        <td id=\"T_d75f1_row2_col0\" class=\"data row2 col0\" >0</td>\n",
       "                        <td id=\"T_d75f1_row2_col1\" class=\"data row2 col1\" >100,000</td>\n",
       "                        <td id=\"T_d75f1_row2_col2\" class=\"data row2 col2\" >0.00%</td>\n",
       "            </tr>\n",
       "            <tr>\n",
       "                        <th id=\"T_d75f1_level0_row3\" class=\"row_heading level0 row3\" >f2</th>\n",
       "                        <td id=\"T_d75f1_row3_col0\" class=\"data row3 col0\" >0</td>\n",
       "                        <td id=\"T_d75f1_row3_col1\" class=\"data row3 col1\" >100,000</td>\n",
       "                        <td id=\"T_d75f1_row3_col2\" class=\"data row3 col2\" >0.00%</td>\n",
       "            </tr>\n",
       "            <tr>\n",
       "                        <th id=\"T_d75f1_level0_row4\" class=\"row_heading level0 row4\" >product</th>\n",
       "                        <td id=\"T_d75f1_row4_col0\" class=\"data row4 col0\" >0</td>\n",
       "                        <td id=\"T_d75f1_row4_col1\" class=\"data row4 col1\" >100,000</td>\n",
       "                        <td id=\"T_d75f1_row4_col2\" class=\"data row4 col2\" >0.00%</td>\n",
       "            </tr>\n",
       "    </tbody></table>"
      ],
      "text/plain": [
       "<pandas.io.formats.style.Styler at 0x7f1ae03351f0>"
      ]
     },
     "execution_count": 13,
     "metadata": {},
     "output_type": "execute_result"
    }
   ],
   "source": [
    "df_1.stb.missing(style=True)"
   ]
  },
  {
   "cell_type": "code",
   "execution_count": 14,
   "metadata": {},
   "outputs": [
    {
     "data": {
      "text/html": [
       "<style  type=\"text/css\" >\n",
       "</style><table id=\"T_aabf6_\" ><thead>    <tr>        <th class=\"blank level0\" ></th>        <th class=\"col_heading level0 col0\" >missing</th>        <th class=\"col_heading level0 col1\" >total</th>        <th class=\"col_heading level0 col2\" >percent</th>    </tr></thead><tbody>\n",
       "                <tr>\n",
       "                        <th id=\"T_aabf6_level0_row0\" class=\"row_heading level0 row0\" >id</th>\n",
       "                        <td id=\"T_aabf6_row0_col0\" class=\"data row0 col0\" >0</td>\n",
       "                        <td id=\"T_aabf6_row0_col1\" class=\"data row0 col1\" >100,000</td>\n",
       "                        <td id=\"T_aabf6_row0_col2\" class=\"data row0 col2\" >0.00%</td>\n",
       "            </tr>\n",
       "            <tr>\n",
       "                        <th id=\"T_aabf6_level0_row1\" class=\"row_heading level0 row1\" >f0</th>\n",
       "                        <td id=\"T_aabf6_row1_col0\" class=\"data row1 col0\" >0</td>\n",
       "                        <td id=\"T_aabf6_row1_col1\" class=\"data row1 col1\" >100,000</td>\n",
       "                        <td id=\"T_aabf6_row1_col2\" class=\"data row1 col2\" >0.00%</td>\n",
       "            </tr>\n",
       "            <tr>\n",
       "                        <th id=\"T_aabf6_level0_row2\" class=\"row_heading level0 row2\" >f1</th>\n",
       "                        <td id=\"T_aabf6_row2_col0\" class=\"data row2 col0\" >0</td>\n",
       "                        <td id=\"T_aabf6_row2_col1\" class=\"data row2 col1\" >100,000</td>\n",
       "                        <td id=\"T_aabf6_row2_col2\" class=\"data row2 col2\" >0.00%</td>\n",
       "            </tr>\n",
       "            <tr>\n",
       "                        <th id=\"T_aabf6_level0_row3\" class=\"row_heading level0 row3\" >f2</th>\n",
       "                        <td id=\"T_aabf6_row3_col0\" class=\"data row3 col0\" >0</td>\n",
       "                        <td id=\"T_aabf6_row3_col1\" class=\"data row3 col1\" >100,000</td>\n",
       "                        <td id=\"T_aabf6_row3_col2\" class=\"data row3 col2\" >0.00%</td>\n",
       "            </tr>\n",
       "            <tr>\n",
       "                        <th id=\"T_aabf6_level0_row4\" class=\"row_heading level0 row4\" >product</th>\n",
       "                        <td id=\"T_aabf6_row4_col0\" class=\"data row4 col0\" >0</td>\n",
       "                        <td id=\"T_aabf6_row4_col1\" class=\"data row4 col1\" >100,000</td>\n",
       "                        <td id=\"T_aabf6_row4_col2\" class=\"data row4 col2\" >0.00%</td>\n",
       "            </tr>\n",
       "    </tbody></table>"
      ],
      "text/plain": [
       "<pandas.io.formats.style.Styler at 0x7f1ae02f9e50>"
      ]
     },
     "execution_count": 14,
     "metadata": {},
     "output_type": "execute_result"
    }
   ],
   "source": [
    "df_2.stb.missing(style=True)"
   ]
  },
  {
   "cell_type": "markdown",
   "metadata": {},
   "source": [
    "All data is clean."
   ]
  },
  {
   "cell_type": "code",
   "execution_count": 15,
   "metadata": {},
   "outputs": [
    {
     "data": {
      "text/plain": [
       "(100000, 5)"
      ]
     },
     "execution_count": 15,
     "metadata": {},
     "output_type": "execute_result"
    }
   ],
   "source": [
    "df_0.shape"
   ]
  },
  {
   "cell_type": "code",
   "execution_count": 16,
   "metadata": {},
   "outputs": [
    {
     "data": {
      "text/plain": [
       "(100000, 5)"
      ]
     },
     "execution_count": 16,
     "metadata": {},
     "output_type": "execute_result"
    }
   ],
   "source": [
    "df_1.shape"
   ]
  },
  {
   "cell_type": "code",
   "execution_count": 17,
   "metadata": {},
   "outputs": [
    {
     "data": {
      "text/plain": [
       "(100000, 5)"
      ]
     },
     "execution_count": 17,
     "metadata": {},
     "output_type": "execute_result"
    }
   ],
   "source": [
    "df_2.shape"
   ]
  },
  {
   "cell_type": "markdown",
   "metadata": {},
   "source": [
    "All separate data has the same nmber of rows and columns."
   ]
  },
  {
   "cell_type": "markdown",
   "metadata": {},
   "source": [
    "Let's drop the 'id' column from the data."
   ]
  },
  {
   "cell_type": "code",
   "execution_count": 18,
   "metadata": {
    "scrolled": true
   },
   "outputs": [
    {
     "data": {
      "text/html": [
       "<div>\n",
       "<style scoped>\n",
       "    .dataframe tbody tr th:only-of-type {\n",
       "        vertical-align: middle;\n",
       "    }\n",
       "\n",
       "    .dataframe tbody tr th {\n",
       "        vertical-align: top;\n",
       "    }\n",
       "\n",
       "    .dataframe thead th {\n",
       "        text-align: right;\n",
       "    }\n",
       "</style>\n",
       "<table border=\"1\" class=\"dataframe\">\n",
       "  <thead>\n",
       "    <tr style=\"text-align: right;\">\n",
       "      <th></th>\n",
       "      <th>f0</th>\n",
       "      <th>f1</th>\n",
       "      <th>f2</th>\n",
       "      <th>product</th>\n",
       "    </tr>\n",
       "  </thead>\n",
       "  <tbody>\n",
       "    <tr>\n",
       "      <th>0</th>\n",
       "      <td>0.705745</td>\n",
       "      <td>-0.497823</td>\n",
       "      <td>1.221170</td>\n",
       "      <td>105.280062</td>\n",
       "    </tr>\n",
       "    <tr>\n",
       "      <th>1</th>\n",
       "      <td>1.334711</td>\n",
       "      <td>-0.340164</td>\n",
       "      <td>4.365080</td>\n",
       "      <td>73.037750</td>\n",
       "    </tr>\n",
       "    <tr>\n",
       "      <th>2</th>\n",
       "      <td>1.022732</td>\n",
       "      <td>0.151990</td>\n",
       "      <td>1.419926</td>\n",
       "      <td>85.265647</td>\n",
       "    </tr>\n",
       "    <tr>\n",
       "      <th>3</th>\n",
       "      <td>-0.032172</td>\n",
       "      <td>0.139033</td>\n",
       "      <td>2.978566</td>\n",
       "      <td>168.620776</td>\n",
       "    </tr>\n",
       "    <tr>\n",
       "      <th>4</th>\n",
       "      <td>1.988431</td>\n",
       "      <td>0.155413</td>\n",
       "      <td>4.751769</td>\n",
       "      <td>154.036647</td>\n",
       "    </tr>\n",
       "  </tbody>\n",
       "</table>\n",
       "</div>"
      ],
      "text/plain": [
       "         f0        f1        f2     product\n",
       "0  0.705745 -0.497823  1.221170  105.280062\n",
       "1  1.334711 -0.340164  4.365080   73.037750\n",
       "2  1.022732  0.151990  1.419926   85.265647\n",
       "3 -0.032172  0.139033  2.978566  168.620776\n",
       "4  1.988431  0.155413  4.751769  154.036647"
      ]
     },
     "execution_count": 18,
     "metadata": {},
     "output_type": "execute_result"
    }
   ],
   "source": [
    "df_0=df_0.drop(['id'],axis=1)\n",
    "df_1=df_1.drop(['id'],axis=1)\n",
    "df_2=df_2.drop(['id'],axis=1)\n",
    "\n",
    "df_0.head()\n"
   ]
  },
  {
   "cell_type": "code",
   "execution_count": 19,
   "metadata": {
    "scrolled": true
   },
   "outputs": [
    {
     "data": {
      "text/html": [
       "<div>\n",
       "<style scoped>\n",
       "    .dataframe tbody tr th:only-of-type {\n",
       "        vertical-align: middle;\n",
       "    }\n",
       "\n",
       "    .dataframe tbody tr th {\n",
       "        vertical-align: top;\n",
       "    }\n",
       "\n",
       "    .dataframe thead th {\n",
       "        text-align: right;\n",
       "    }\n",
       "</style>\n",
       "<table border=\"1\" class=\"dataframe\">\n",
       "  <thead>\n",
       "    <tr style=\"text-align: right;\">\n",
       "      <th></th>\n",
       "      <th>f0</th>\n",
       "      <th>f1</th>\n",
       "      <th>f2</th>\n",
       "      <th>product</th>\n",
       "    </tr>\n",
       "  </thead>\n",
       "  <tbody>\n",
       "    <tr>\n",
       "      <th>0</th>\n",
       "      <td>-15.001348</td>\n",
       "      <td>-8.276000</td>\n",
       "      <td>-0.005876</td>\n",
       "      <td>3.179103</td>\n",
       "    </tr>\n",
       "    <tr>\n",
       "      <th>1</th>\n",
       "      <td>14.272088</td>\n",
       "      <td>-3.475083</td>\n",
       "      <td>0.999183</td>\n",
       "      <td>26.953261</td>\n",
       "    </tr>\n",
       "    <tr>\n",
       "      <th>2</th>\n",
       "      <td>6.263187</td>\n",
       "      <td>-5.948386</td>\n",
       "      <td>5.001160</td>\n",
       "      <td>134.766305</td>\n",
       "    </tr>\n",
       "    <tr>\n",
       "      <th>3</th>\n",
       "      <td>-13.081196</td>\n",
       "      <td>-11.506057</td>\n",
       "      <td>4.999415</td>\n",
       "      <td>137.945408</td>\n",
       "    </tr>\n",
       "    <tr>\n",
       "      <th>4</th>\n",
       "      <td>12.702195</td>\n",
       "      <td>-8.147433</td>\n",
       "      <td>5.004363</td>\n",
       "      <td>134.766305</td>\n",
       "    </tr>\n",
       "  </tbody>\n",
       "</table>\n",
       "</div>"
      ],
      "text/plain": [
       "          f0         f1        f2     product\n",
       "0 -15.001348  -8.276000 -0.005876    3.179103\n",
       "1  14.272088  -3.475083  0.999183   26.953261\n",
       "2   6.263187  -5.948386  5.001160  134.766305\n",
       "3 -13.081196 -11.506057  4.999415  137.945408\n",
       "4  12.702195  -8.147433  5.004363  134.766305"
      ]
     },
     "execution_count": 19,
     "metadata": {},
     "output_type": "execute_result"
    }
   ],
   "source": [
    "df_1.head()"
   ]
  },
  {
   "cell_type": "code",
   "execution_count": 20,
   "metadata": {
    "scrolled": true
   },
   "outputs": [
    {
     "data": {
      "text/html": [
       "<div>\n",
       "<style scoped>\n",
       "    .dataframe tbody tr th:only-of-type {\n",
       "        vertical-align: middle;\n",
       "    }\n",
       "\n",
       "    .dataframe tbody tr th {\n",
       "        vertical-align: top;\n",
       "    }\n",
       "\n",
       "    .dataframe thead th {\n",
       "        text-align: right;\n",
       "    }\n",
       "</style>\n",
       "<table border=\"1\" class=\"dataframe\">\n",
       "  <thead>\n",
       "    <tr style=\"text-align: right;\">\n",
       "      <th></th>\n",
       "      <th>f0</th>\n",
       "      <th>f1</th>\n",
       "      <th>f2</th>\n",
       "      <th>product</th>\n",
       "    </tr>\n",
       "  </thead>\n",
       "  <tbody>\n",
       "    <tr>\n",
       "      <th>0</th>\n",
       "      <td>-1.146987</td>\n",
       "      <td>0.963328</td>\n",
       "      <td>-0.828965</td>\n",
       "      <td>27.758673</td>\n",
       "    </tr>\n",
       "    <tr>\n",
       "      <th>1</th>\n",
       "      <td>0.262778</td>\n",
       "      <td>0.269839</td>\n",
       "      <td>-2.530187</td>\n",
       "      <td>56.069697</td>\n",
       "    </tr>\n",
       "    <tr>\n",
       "      <th>2</th>\n",
       "      <td>0.194587</td>\n",
       "      <td>0.289035</td>\n",
       "      <td>-5.586433</td>\n",
       "      <td>62.871910</td>\n",
       "    </tr>\n",
       "    <tr>\n",
       "      <th>3</th>\n",
       "      <td>2.236060</td>\n",
       "      <td>-0.553760</td>\n",
       "      <td>0.930038</td>\n",
       "      <td>114.572842</td>\n",
       "    </tr>\n",
       "    <tr>\n",
       "      <th>4</th>\n",
       "      <td>-0.515993</td>\n",
       "      <td>1.716266</td>\n",
       "      <td>5.899011</td>\n",
       "      <td>149.600746</td>\n",
       "    </tr>\n",
       "  </tbody>\n",
       "</table>\n",
       "</div>"
      ],
      "text/plain": [
       "         f0        f1        f2     product\n",
       "0 -1.146987  0.963328 -0.828965   27.758673\n",
       "1  0.262778  0.269839 -2.530187   56.069697\n",
       "2  0.194587  0.289035 -5.586433   62.871910\n",
       "3  2.236060 -0.553760  0.930038  114.572842\n",
       "4 -0.515993  1.716266  5.899011  149.600746"
      ]
     },
     "execution_count": 20,
     "metadata": {},
     "output_type": "execute_result"
    }
   ],
   "source": [
    "df_2.head()"
   ]
  },
  {
   "cell_type": "markdown",
   "metadata": {},
   "source": [
    "Let's see about duplicates."
   ]
  },
  {
   "cell_type": "code",
   "execution_count": 21,
   "metadata": {},
   "outputs": [
    {
     "data": {
      "text/plain": [
       "0"
      ]
     },
     "execution_count": 21,
     "metadata": {},
     "output_type": "execute_result"
    }
   ],
   "source": [
    "df_0.duplicated().sum()"
   ]
  },
  {
   "cell_type": "code",
   "execution_count": 22,
   "metadata": {},
   "outputs": [
    {
     "data": {
      "text/plain": [
       "0"
      ]
     },
     "execution_count": 22,
     "metadata": {},
     "output_type": "execute_result"
    }
   ],
   "source": [
    "df_1.duplicated().sum()"
   ]
  },
  {
   "cell_type": "code",
   "execution_count": 23,
   "metadata": {},
   "outputs": [
    {
     "data": {
      "text/plain": [
       "0"
      ]
     },
     "execution_count": 23,
     "metadata": {},
     "output_type": "execute_result"
    }
   ],
   "source": [
    "df_2.duplicated().sum()"
   ]
  },
  {
   "cell_type": "markdown",
   "metadata": {},
   "source": [
    "There are no duplicates in our data."
   ]
  },
  {
   "cell_type": "markdown",
   "metadata": {},
   "source": [
    "Let's see the plots for every feature."
   ]
  },
  {
   "cell_type": "code",
   "execution_count": 24,
   "metadata": {},
   "outputs": [
    {
     "data": {
      "image/png": "[encoded data removed]",
      "text/plain": [
       "<Figure size 432x288 with 1 Axes>"
      ]
     },
     "metadata": {
      "needs_background": "light"
     },
     "output_type": "display_data"
    }
   ],
   "source": [
    "import matplotlib.pyplot as plt\n",
    "\n",
    "plt.hist(df_0['f0'], bins = 10)\n",
    "\n",
    "plt.show()"
   ]
  },
  {
   "cell_type": "code",
   "execution_count": 25,
   "metadata": {},
   "outputs": [
    {
     "data": {
      "image/png": "[encoded data removed]",
      "text/plain": [
       "<Figure size 432x288 with 1 Axes>"
      ]
     },
     "metadata": {
      "needs_background": "light"
     },
     "output_type": "display_data"
    }
   ],
   "source": [
    "plt.hist(df_0['f1'], bins = 10)\n",
    "\n",
    "plt.show()"
   ]
  },
  {
   "cell_type": "code",
   "execution_count": 26,
   "metadata": {
    "scrolled": true
   },
   "outputs": [
    {
     "data": {
      "image/png": "[encoded data removed]",
      "text/plain": [
       "<Figure size 432x288 with 1 Axes>"
      ]
     },
     "metadata": {
      "needs_background": "light"
     },
     "output_type": "display_data"
    }
   ],
   "source": [
    "plt.hist(df_0['f2'], bins = 10)\n",
    "\n",
    "plt.show()"
   ]
  },
  {
   "cell_type": "code",
   "execution_count": 27,
   "metadata": {},
   "outputs": [
    {
     "data": {
      "image/png": "[encoded data removed]",
      "text/plain": [
       "<Figure size 432x288 with 1 Axes>"
      ]
     },
     "metadata": {
      "needs_background": "light"
     },
     "output_type": "display_data"
    }
   ],
   "source": [
    "plt.hist(df_1['f0'], bins = 10)\n",
    "\n",
    "plt.show()"
   ]
  },
  {
   "cell_type": "code",
   "execution_count": 28,
   "metadata": {},
   "outputs": [
    {
     "data": {
      "image/png": "[encoded data removed]",
      "text/plain": [
       "<Figure size 432x288 with 1 Axes>"
      ]
     },
     "metadata": {
      "needs_background": "light"
     },
     "output_type": "display_data"
    }
   ],
   "source": [
    "plt.hist(df_1['f1'], bins = 10)\n",
    "\n",
    "plt.show()"
   ]
  },
  {
   "cell_type": "code",
   "execution_count": 29,
   "metadata": {},
   "outputs": [
    {
     "data": {
      "image/png": "[encoded data removed]",
      "text/plain": [
       "<Figure size 432x288 with 1 Axes>"
      ]
     },
     "metadata": {
      "needs_background": "light"
     },
     "output_type": "display_data"
    }
   ],
   "source": [
    "plt.hist(df_1['f2'], bins = 10)\n",
    "\n",
    "plt.show()"
   ]
  },
  {
   "cell_type": "code",
   "execution_count": 30,
   "metadata": {},
   "outputs": [
    {
     "data": {
      "image/png": "[encoded data removed]",
      "text/plain": [
       "<Figure size 432x288 with 1 Axes>"
      ]
     },
     "metadata": {
      "needs_background": "light"
     },
     "output_type": "display_data"
    }
   ],
   "source": [
    "plt.hist(df_2['f0'], bins = 10)\n",
    "plt.show()"
   ]
  },
  {
   "cell_type": "code",
   "execution_count": 31,
   "metadata": {},
   "outputs": [
    {
     "data": {
      "image/png": "[encoded data removed]",
      "text/plain": [
       "<Figure size 432x288 with 1 Axes>"
      ]
     },
     "metadata": {
      "needs_background": "light"
     },
     "output_type": "display_data"
    }
   ],
   "source": [
    "plt.hist(df_2['f1'], bins = 10)\n",
    "plt.show()"
   ]
  },
  {
   "cell_type": "code",
   "execution_count": 32,
   "metadata": {},
   "outputs": [
    {
     "data": {
      "image/png": "[encoded data removed]",
      "text/plain": [
       "<Figure size 432x288 with 1 Axes>"
      ]
     },
     "metadata": {
      "needs_background": "light"
     },
     "output_type": "display_data"
    }
   ],
   "source": [
    "plt.hist(df_2['f2'], bins = 10)\n",
    "plt.show()"
   ]
  },
  {
   "cell_type": "markdown",
   "metadata": {},
   "source": [
    "From the plot above it is obvious that the feature data needs to be normalized."
   ]
  },
  {
   "cell_type": "markdown",
   "metadata": {},
   "source": [
    "## Train and test the model for each region:\n",
    "\n",
    "     2.1. Split the data into a training set and validation set at a ratio of 75:25."
   ]
  },
  {
   "cell_type": "code",
   "execution_count": 33,
   "metadata": {},
   "outputs": [],
   "source": [
    "from sklearn.preprocessing import StandardScaler"
   ]
  },
  {
   "cell_type": "code",
   "execution_count": 34,
   "metadata": {},
   "outputs": [],
   "source": [
    "from sklearn.model_selection import train_test_split"
   ]
  },
  {
   "cell_type": "code",
   "execution_count": 35,
   "metadata": {},
   "outputs": [],
   "source": [
    "train_0,valid_0=train_test_split(df_0,test_size=0.25,random_state=12345,shuffle=True)\n",
    "\n",
    "train_1,valid_1=train_test_split(df_1,test_size=0.25,random_state=12345,shuffle=True)\n",
    "\n",
    "train_2,valid_2=train_test_split(df_2,test_size=0.25,random_state=12345,shuffle=True)"
   ]
  },
  {
   "cell_type": "markdown",
   "metadata": {},
   "source": [
    "2.2 Train the model and make predictions for the validation set."
   ]
  },
  {
   "cell_type": "markdown",
   "metadata": {},
   "source": [
    "As was mantioned before I need to standardize​ the features."
   ]
  },
  {
   "cell_type": "markdown",
   "metadata": {},
   "source": [
    "df_0 (As first region)."
   ]
  },
  {
   "cell_type": "code",
   "execution_count": 36,
   "metadata": {},
   "outputs": [
    {
     "name": "stderr",
     "output_type": "stream",
     "text": [
      "/tmp/ipykernel_37/3018974105.py:4: SettingWithCopyWarning: \n",
      "A value is trying to be set on a copy of a slice from a DataFrame.\n",
      "Try using .loc[row_indexer,col_indexer] = value instead\n",
      "\n",
      "See the caveats in the documentation: https://pandas.pydata.org/pandas-docs/stable/user_guide/indexing.html#returning-a-view-versus-a-copy\n",
      "  train_0[numeric]=scaler_0.transform(train_0[numeric])\n",
      "/opt/conda/lib/python3.9/site-packages/pandas/core/indexing.py:1637: SettingWithCopyWarning: \n",
      "A value is trying to be set on a copy of a slice from a DataFrame\n",
      "\n",
      "See the caveats in the documentation: https://pandas.pydata.org/pandas-docs/stable/user_guide/indexing.html#returning-a-view-versus-a-copy\n",
      "  self._setitem_single_block(indexer, value, name)\n",
      "/opt/conda/lib/python3.9/site-packages/pandas/core/indexing.py:692: SettingWithCopyWarning: \n",
      "A value is trying to be set on a copy of a slice from a DataFrame\n",
      "\n",
      "See the caveats in the documentation: https://pandas.pydata.org/pandas-docs/stable/user_guide/indexing.html#returning-a-view-versus-a-copy\n",
      "  iloc._setitem_with_indexer(indexer, value, self.name)\n",
      "/tmp/ipykernel_37/3018974105.py:5: SettingWithCopyWarning: \n",
      "A value is trying to be set on a copy of a slice from a DataFrame.\n",
      "Try using .loc[row_indexer,col_indexer] = value instead\n",
      "\n",
      "See the caveats in the documentation: https://pandas.pydata.org/pandas-docs/stable/user_guide/indexing.html#returning-a-view-versus-a-copy\n",
      "  valid_0[numeric]=scaler_0.transform(valid_0[numeric])\n",
      "/opt/conda/lib/python3.9/site-packages/pandas/core/indexing.py:1637: SettingWithCopyWarning: \n",
      "A value is trying to be set on a copy of a slice from a DataFrame\n",
      "\n",
      "See the caveats in the documentation: https://pandas.pydata.org/pandas-docs/stable/user_guide/indexing.html#returning-a-view-versus-a-copy\n",
      "  self._setitem_single_block(indexer, value, name)\n",
      "/opt/conda/lib/python3.9/site-packages/pandas/core/indexing.py:692: SettingWithCopyWarning: \n",
      "A value is trying to be set on a copy of a slice from a DataFrame\n",
      "\n",
      "See the caveats in the documentation: https://pandas.pydata.org/pandas-docs/stable/user_guide/indexing.html#returning-a-view-versus-a-copy\n",
      "  iloc._setitem_with_indexer(indexer, value, self.name)\n"
     ]
    }
   ],
   "source": [
    "numeric=['f0','f1','f2']\n",
    "scaler_0=StandardScaler()\n",
    "scaler_0.fit(train_0[numeric])\n",
    "train_0[numeric]=scaler_0.transform(train_0[numeric])\n",
    "valid_0[numeric]=scaler_0.transform(valid_0[numeric])"
   ]
  },
  {
   "cell_type": "code",
   "execution_count": 37,
   "metadata": {
    "scrolled": true
   },
   "outputs": [
    {
     "data": {
      "text/html": [
       "<div>\n",
       "<style scoped>\n",
       "    .dataframe tbody tr th:only-of-type {\n",
       "        vertical-align: middle;\n",
       "    }\n",
       "\n",
       "    .dataframe tbody tr th {\n",
       "        vertical-align: top;\n",
       "    }\n",
       "\n",
       "    .dataframe thead th {\n",
       "        text-align: right;\n",
       "    }\n",
       "</style>\n",
       "<table border=\"1\" class=\"dataframe\">\n",
       "  <thead>\n",
       "    <tr style=\"text-align: right;\">\n",
       "      <th></th>\n",
       "      <th>f0</th>\n",
       "      <th>f1</th>\n",
       "      <th>f2</th>\n",
       "      <th>product</th>\n",
       "    </tr>\n",
       "  </thead>\n",
       "  <tbody>\n",
       "    <tr>\n",
       "      <th>27212</th>\n",
       "      <td>-0.544828</td>\n",
       "      <td>1.390264</td>\n",
       "      <td>-0.094959</td>\n",
       "      <td>147.370612</td>\n",
       "    </tr>\n",
       "    <tr>\n",
       "      <th>7866</th>\n",
       "      <td>1.455912</td>\n",
       "      <td>-0.480422</td>\n",
       "      <td>1.209567</td>\n",
       "      <td>147.630053</td>\n",
       "    </tr>\n",
       "    <tr>\n",
       "      <th>62041</th>\n",
       "      <td>0.260460</td>\n",
       "      <td>0.825069</td>\n",
       "      <td>-0.204865</td>\n",
       "      <td>77.696728</td>\n",
       "    </tr>\n",
       "    <tr>\n",
       "      <th>70185</th>\n",
       "      <td>-1.837105</td>\n",
       "      <td>0.010321</td>\n",
       "      <td>-0.147634</td>\n",
       "      <td>55.210501</td>\n",
       "    </tr>\n",
       "    <tr>\n",
       "      <th>82230</th>\n",
       "      <td>-1.299243</td>\n",
       "      <td>0.987558</td>\n",
       "      <td>1.273181</td>\n",
       "      <td>113.891723</td>\n",
       "    </tr>\n",
       "  </tbody>\n",
       "</table>\n",
       "</div>"
      ],
      "text/plain": [
       "             f0        f1        f2     product\n",
       "27212 -0.544828  1.390264 -0.094959  147.370612\n",
       "7866   1.455912 -0.480422  1.209567  147.630053\n",
       "62041  0.260460  0.825069 -0.204865   77.696728\n",
       "70185 -1.837105  0.010321 -0.147634   55.210501\n",
       "82230 -1.299243  0.987558  1.273181  113.891723"
      ]
     },
     "execution_count": 37,
     "metadata": {},
     "output_type": "execute_result"
    }
   ],
   "source": [
    "train_0.head()"
   ]
  },
  {
   "cell_type": "code",
   "execution_count": 38,
   "metadata": {},
   "outputs": [
    {
     "data": {
      "text/html": [
       "<div>\n",
       "<style scoped>\n",
       "    .dataframe tbody tr th:only-of-type {\n",
       "        vertical-align: middle;\n",
       "    }\n",
       "\n",
       "    .dataframe tbody tr th {\n",
       "        vertical-align: top;\n",
       "    }\n",
       "\n",
       "    .dataframe thead th {\n",
       "        text-align: right;\n",
       "    }\n",
       "</style>\n",
       "<table border=\"1\" class=\"dataframe\">\n",
       "  <thead>\n",
       "    <tr style=\"text-align: right;\">\n",
       "      <th></th>\n",
       "      <th>f0</th>\n",
       "      <th>f1</th>\n",
       "      <th>f2</th>\n",
       "      <th>product</th>\n",
       "    </tr>\n",
       "  </thead>\n",
       "  <tbody>\n",
       "    <tr>\n",
       "      <th>71751</th>\n",
       "      <td>0.517917</td>\n",
       "      <td>-0.610097</td>\n",
       "      <td>-0.126226</td>\n",
       "      <td>10.038645</td>\n",
       "    </tr>\n",
       "    <tr>\n",
       "      <th>80493</th>\n",
       "      <td>0.568391</td>\n",
       "      <td>-0.086063</td>\n",
       "      <td>-0.814914</td>\n",
       "      <td>114.551489</td>\n",
       "    </tr>\n",
       "    <tr>\n",
       "      <th>2655</th>\n",
       "      <td>0.805688</td>\n",
       "      <td>-1.613289</td>\n",
       "      <td>-1.341342</td>\n",
       "      <td>132.603635</td>\n",
       "    </tr>\n",
       "    <tr>\n",
       "      <th>53233</th>\n",
       "      <td>0.222503</td>\n",
       "      <td>-1.355437</td>\n",
       "      <td>-0.597275</td>\n",
       "      <td>169.072125</td>\n",
       "    </tr>\n",
       "    <tr>\n",
       "      <th>91141</th>\n",
       "      <td>-0.087941</td>\n",
       "      <td>1.433113</td>\n",
       "      <td>-0.544588</td>\n",
       "      <td>122.325180</td>\n",
       "    </tr>\n",
       "  </tbody>\n",
       "</table>\n",
       "</div>"
      ],
      "text/plain": [
       "             f0        f1        f2     product\n",
       "71751  0.517917 -0.610097 -0.126226   10.038645\n",
       "80493  0.568391 -0.086063 -0.814914  114.551489\n",
       "2655   0.805688 -1.613289 -1.341342  132.603635\n",
       "53233  0.222503 -1.355437 -0.597275  169.072125\n",
       "91141 -0.087941  1.433113 -0.544588  122.325180"
      ]
     },
     "execution_count": 38,
     "metadata": {},
     "output_type": "execute_result"
    }
   ],
   "source": [
    "valid_0.head()"
   ]
  },
  {
   "cell_type": "markdown",
   "metadata": {},
   "source": [
    "df_1 (As second region)."
   ]
  },
  {
   "cell_type": "code",
   "execution_count": 42,
   "metadata": {},
   "outputs": [
    {
     "name": "stderr",
     "output_type": "stream",
     "text": [
      "/tmp/ipykernel_37/1222886467.py:3: SettingWithCopyWarning: \n",
      "A value is trying to be set on a copy of a slice from a DataFrame.\n",
      "Try using .loc[row_indexer,col_indexer] = value instead\n",
      "\n",
      "See the caveats in the documentation: https://pandas.pydata.org/pandas-docs/stable/user_guide/indexing.html#returning-a-view-versus-a-copy\n",
      "  train_1[numeric]=scaler_1.transform(train_1[numeric])\n",
      "/opt/conda/lib/python3.9/site-packages/pandas/core/indexing.py:1637: SettingWithCopyWarning: \n",
      "A value is trying to be set on a copy of a slice from a DataFrame\n",
      "\n",
      "See the caveats in the documentation: https://pandas.pydata.org/pandas-docs/stable/user_guide/indexing.html#returning-a-view-versus-a-copy\n",
      "  self._setitem_single_block(indexer, value, name)\n",
      "/opt/conda/lib/python3.9/site-packages/pandas/core/indexing.py:692: SettingWithCopyWarning: \n",
      "A value is trying to be set on a copy of a slice from a DataFrame\n",
      "\n",
      "See the caveats in the documentation: https://pandas.pydata.org/pandas-docs/stable/user_guide/indexing.html#returning-a-view-versus-a-copy\n",
      "  iloc._setitem_with_indexer(indexer, value, self.name)\n",
      "/tmp/ipykernel_37/1222886467.py:4: SettingWithCopyWarning: \n",
      "A value is trying to be set on a copy of a slice from a DataFrame.\n",
      "Try using .loc[row_indexer,col_indexer] = value instead\n",
      "\n",
      "See the caveats in the documentation: https://pandas.pydata.org/pandas-docs/stable/user_guide/indexing.html#returning-a-view-versus-a-copy\n",
      "  valid_1[numeric]=scaler_1.transform(valid_1[numeric])\n",
      "/opt/conda/lib/python3.9/site-packages/pandas/core/indexing.py:1637: SettingWithCopyWarning: \n",
      "A value is trying to be set on a copy of a slice from a DataFrame\n",
      "\n",
      "See the caveats in the documentation: https://pandas.pydata.org/pandas-docs/stable/user_guide/indexing.html#returning-a-view-versus-a-copy\n",
      "  self._setitem_single_block(indexer, value, name)\n",
      "/opt/conda/lib/python3.9/site-packages/pandas/core/indexing.py:692: SettingWithCopyWarning: \n",
      "A value is trying to be set on a copy of a slice from a DataFrame\n",
      "\n",
      "See the caveats in the documentation: https://pandas.pydata.org/pandas-docs/stable/user_guide/indexing.html#returning-a-view-versus-a-copy\n",
      "  iloc._setitem_with_indexer(indexer, value, self.name)\n"
     ]
    }
   ],
   "source": [
    "scaler_1=StandardScaler()\n",
    "scaler_1.fit(train_1[numeric])\n",
    "train_1[numeric]=scaler_1.transform(train_1[numeric])\n",
    "valid_1[numeric]=scaler_1.transform(valid_1[numeric])"
   ]
  },
  {
   "cell_type": "code",
   "execution_count": 40,
   "metadata": {
    "scrolled": true
   },
   "outputs": [
    {
     "data": {
      "text/html": [
       "<div>\n",
       "<style scoped>\n",
       "    .dataframe tbody tr th:only-of-type {\n",
       "        vertical-align: middle;\n",
       "    }\n",
       "\n",
       "    .dataframe tbody tr th {\n",
       "        vertical-align: top;\n",
       "    }\n",
       "\n",
       "    .dataframe thead th {\n",
       "        text-align: right;\n",
       "    }\n",
       "</style>\n",
       "<table border=\"1\" class=\"dataframe\">\n",
       "  <thead>\n",
       "    <tr style=\"text-align: right;\">\n",
       "      <th></th>\n",
       "      <th>f0</th>\n",
       "      <th>f1</th>\n",
       "      <th>f2</th>\n",
       "      <th>product</th>\n",
       "    </tr>\n",
       "  </thead>\n",
       "  <tbody>\n",
       "    <tr>\n",
       "      <th>27212</th>\n",
       "      <td>-6.488552</td>\n",
       "      <td>-1.590478</td>\n",
       "      <td>3.001311</td>\n",
       "      <td>84.038886</td>\n",
       "    </tr>\n",
       "    <tr>\n",
       "      <th>7866</th>\n",
       "      <td>18.819463</td>\n",
       "      <td>4.602079</td>\n",
       "      <td>2.996867</td>\n",
       "      <td>80.859783</td>\n",
       "    </tr>\n",
       "    <tr>\n",
       "      <th>62041</th>\n",
       "      <td>10.816499</td>\n",
       "      <td>-3.919653</td>\n",
       "      <td>1.991077</td>\n",
       "      <td>53.906522</td>\n",
       "    </tr>\n",
       "    <tr>\n",
       "      <th>70185</th>\n",
       "      <td>-12.416362</td>\n",
       "      <td>-9.343774</td>\n",
       "      <td>0.996691</td>\n",
       "      <td>30.132364</td>\n",
       "    </tr>\n",
       "    <tr>\n",
       "      <th>82230</th>\n",
       "      <td>-15.041012</td>\n",
       "      <td>-8.474624</td>\n",
       "      <td>1.996463</td>\n",
       "      <td>57.085625</td>\n",
       "    </tr>\n",
       "  </tbody>\n",
       "</table>\n",
       "</div>"
      ],
      "text/plain": [
       "              f0        f1        f2    product\n",
       "27212  -6.488552 -1.590478  3.001311  84.038886\n",
       "7866   18.819463  4.602079  2.996867  80.859783\n",
       "62041  10.816499 -3.919653  1.991077  53.906522\n",
       "70185 -12.416362 -9.343774  0.996691  30.132364\n",
       "82230 -15.041012 -8.474624  1.996463  57.085625"
      ]
     },
     "execution_count": 40,
     "metadata": {},
     "output_type": "execute_result"
    }
   ],
   "source": [
    "train_1.head()"
   ]
  },
  {
   "cell_type": "code",
   "execution_count": 41,
   "metadata": {
    "scrolled": false
   },
   "outputs": [
    {
     "data": {
      "text/html": [
       "<div>\n",
       "<style scoped>\n",
       "    .dataframe tbody tr th:only-of-type {\n",
       "        vertical-align: middle;\n",
       "    }\n",
       "\n",
       "    .dataframe tbody tr th {\n",
       "        vertical-align: top;\n",
       "    }\n",
       "\n",
       "    .dataframe thead th {\n",
       "        text-align: right;\n",
       "    }\n",
       "</style>\n",
       "<table border=\"1\" class=\"dataframe\">\n",
       "  <thead>\n",
       "    <tr style=\"text-align: right;\">\n",
       "      <th></th>\n",
       "      <th>f0</th>\n",
       "      <th>f1</th>\n",
       "      <th>f2</th>\n",
       "      <th>product</th>\n",
       "    </tr>\n",
       "  </thead>\n",
       "  <tbody>\n",
       "    <tr>\n",
       "      <th>71751</th>\n",
       "      <td>-0.371866</td>\n",
       "      <td>-1.862494</td>\n",
       "      <td>3.002210</td>\n",
       "      <td>80.859783</td>\n",
       "    </tr>\n",
       "    <tr>\n",
       "      <th>80493</th>\n",
       "      <td>9.015122</td>\n",
       "      <td>-13.881455</td>\n",
       "      <td>1.995363</td>\n",
       "      <td>53.906522</td>\n",
       "    </tr>\n",
       "    <tr>\n",
       "      <th>2655</th>\n",
       "      <td>-6.507568</td>\n",
       "      <td>-4.817448</td>\n",
       "      <td>1.003449</td>\n",
       "      <td>30.132364</td>\n",
       "    </tr>\n",
       "    <tr>\n",
       "      <th>53233</th>\n",
       "      <td>14.560845</td>\n",
       "      <td>-10.667755</td>\n",
       "      <td>1.995175</td>\n",
       "      <td>53.906522</td>\n",
       "    </tr>\n",
       "    <tr>\n",
       "      <th>91141</th>\n",
       "      <td>6.090476</td>\n",
       "      <td>-4.494723</td>\n",
       "      <td>0.013815</td>\n",
       "      <td>0.000000</td>\n",
       "    </tr>\n",
       "  </tbody>\n",
       "</table>\n",
       "</div>"
      ],
      "text/plain": [
       "              f0         f1        f2    product\n",
       "71751  -0.371866  -1.862494  3.002210  80.859783\n",
       "80493   9.015122 -13.881455  1.995363  53.906522\n",
       "2655   -6.507568  -4.817448  1.003449  30.132364\n",
       "53233  14.560845 -10.667755  1.995175  53.906522\n",
       "91141   6.090476  -4.494723  0.013815   0.000000"
      ]
     },
     "execution_count": 41,
     "metadata": {},
     "output_type": "execute_result"
    }
   ],
   "source": [
    "valid_1.head()"
   ]
  },
  {
   "cell_type": "markdown",
   "metadata": {},
   "source": [
    "df_2 (As third region)."
   ]
  },
  {
   "cell_type": "code",
   "execution_count": 47,
   "metadata": {},
   "outputs": [
    {
     "name": "stderr",
     "output_type": "stream",
     "text": [
      "/tmp/ipykernel_37/3232950096.py:3: SettingWithCopyWarning: \n",
      "A value is trying to be set on a copy of a slice from a DataFrame.\n",
      "Try using .loc[row_indexer,col_indexer] = value instead\n",
      "\n",
      "See the caveats in the documentation: https://pandas.pydata.org/pandas-docs/stable/user_guide/indexing.html#returning-a-view-versus-a-copy\n",
      "  train_2[numeric]=scaler_2.transform(train_2[numeric])\n",
      "/opt/conda/lib/python3.9/site-packages/pandas/core/indexing.py:1637: SettingWithCopyWarning: \n",
      "A value is trying to be set on a copy of a slice from a DataFrame\n",
      "\n",
      "See the caveats in the documentation: https://pandas.pydata.org/pandas-docs/stable/user_guide/indexing.html#returning-a-view-versus-a-copy\n",
      "  self._setitem_single_block(indexer, value, name)\n",
      "/opt/conda/lib/python3.9/site-packages/pandas/core/indexing.py:692: SettingWithCopyWarning: \n",
      "A value is trying to be set on a copy of a slice from a DataFrame\n",
      "\n",
      "See the caveats in the documentation: https://pandas.pydata.org/pandas-docs/stable/user_guide/indexing.html#returning-a-view-versus-a-copy\n",
      "  iloc._setitem_with_indexer(indexer, value, self.name)\n",
      "/tmp/ipykernel_37/3232950096.py:4: SettingWithCopyWarning: \n",
      "A value is trying to be set on a copy of a slice from a DataFrame.\n",
      "Try using .loc[row_indexer,col_indexer] = value instead\n",
      "\n",
      "See the caveats in the documentation: https://pandas.pydata.org/pandas-docs/stable/user_guide/indexing.html#returning-a-view-versus-a-copy\n",
      "  valid_2[numeric]=scaler_2.transform(valid_2[numeric])\n",
      "/opt/conda/lib/python3.9/site-packages/pandas/core/indexing.py:1637: SettingWithCopyWarning: \n",
      "A value is trying to be set on a copy of a slice from a DataFrame\n",
      "\n",
      "See the caveats in the documentation: https://pandas.pydata.org/pandas-docs/stable/user_guide/indexing.html#returning-a-view-versus-a-copy\n",
      "  self._setitem_single_block(indexer, value, name)\n",
      "/opt/conda/lib/python3.9/site-packages/pandas/core/indexing.py:692: SettingWithCopyWarning: \n",
      "A value is trying to be set on a copy of a slice from a DataFrame\n",
      "\n",
      "See the caveats in the documentation: https://pandas.pydata.org/pandas-docs/stable/user_guide/indexing.html#returning-a-view-versus-a-copy\n",
      "  iloc._setitem_with_indexer(indexer, value, self.name)\n"
     ]
    }
   ],
   "source": [
    "scaler_2=StandardScaler()\n",
    "scaler_2.fit(train_2[numeric])\n",
    "train_2[numeric]=scaler_2.transform(train_2[numeric])\n",
    "valid_2[numeric]=scaler_2.transform(valid_2[numeric])\n"
   ]
  },
  {
   "cell_type": "code",
   "execution_count": 48,
   "metadata": {},
   "outputs": [
    {
     "data": {
      "text/html": [
       "<div>\n",
       "<style scoped>\n",
       "    .dataframe tbody tr th:only-of-type {\n",
       "        vertical-align: middle;\n",
       "    }\n",
       "\n",
       "    .dataframe tbody tr th {\n",
       "        vertical-align: top;\n",
       "    }\n",
       "\n",
       "    .dataframe thead th {\n",
       "        text-align: right;\n",
       "    }\n",
       "</style>\n",
       "<table border=\"1\" class=\"dataframe\">\n",
       "  <thead>\n",
       "    <tr style=\"text-align: right;\">\n",
       "      <th></th>\n",
       "      <th>f0</th>\n",
       "      <th>f1</th>\n",
       "      <th>f2</th>\n",
       "      <th>product</th>\n",
       "    </tr>\n",
       "  </thead>\n",
       "  <tbody>\n",
       "    <tr>\n",
       "      <th>27212</th>\n",
       "      <td>-0.526160</td>\n",
       "      <td>0.776329</td>\n",
       "      <td>-0.400793</td>\n",
       "      <td>16.733577</td>\n",
       "    </tr>\n",
       "    <tr>\n",
       "      <th>7866</th>\n",
       "      <td>-0.889625</td>\n",
       "      <td>-0.404070</td>\n",
       "      <td>-1.222936</td>\n",
       "      <td>38.047492</td>\n",
       "    </tr>\n",
       "    <tr>\n",
       "      <th>62041</th>\n",
       "      <td>-1.133984</td>\n",
       "      <td>0.208576</td>\n",
       "      <td>0.296765</td>\n",
       "      <td>116.149369</td>\n",
       "    </tr>\n",
       "    <tr>\n",
       "      <th>70185</th>\n",
       "      <td>1.227045</td>\n",
       "      <td>1.570166</td>\n",
       "      <td>-0.764556</td>\n",
       "      <td>105.888803</td>\n",
       "    </tr>\n",
       "    <tr>\n",
       "      <th>82230</th>\n",
       "      <td>-0.194289</td>\n",
       "      <td>0.878312</td>\n",
       "      <td>0.840821</td>\n",
       "      <td>27.570897</td>\n",
       "    </tr>\n",
       "  </tbody>\n",
       "</table>\n",
       "</div>"
      ],
      "text/plain": [
       "             f0        f1        f2     product\n",
       "27212 -0.526160  0.776329 -0.400793   16.733577\n",
       "7866  -0.889625 -0.404070 -1.222936   38.047492\n",
       "62041 -1.133984  0.208576  0.296765  116.149369\n",
       "70185  1.227045  1.570166 -0.764556  105.888803\n",
       "82230 -0.194289  0.878312  0.840821   27.570897"
      ]
     },
     "execution_count": 48,
     "metadata": {},
     "output_type": "execute_result"
    }
   ],
   "source": [
    "train_2.head()"
   ]
  },
  {
   "cell_type": "code",
   "execution_count": 49,
   "metadata": {
    "scrolled": true
   },
   "outputs": [
    {
     "data": {
      "text/html": [
       "<div>\n",
       "<style scoped>\n",
       "    .dataframe tbody tr th:only-of-type {\n",
       "        vertical-align: middle;\n",
       "    }\n",
       "\n",
       "    .dataframe tbody tr th {\n",
       "        vertical-align: top;\n",
       "    }\n",
       "\n",
       "    .dataframe thead th {\n",
       "        text-align: right;\n",
       "    }\n",
       "</style>\n",
       "<table border=\"1\" class=\"dataframe\">\n",
       "  <thead>\n",
       "    <tr style=\"text-align: right;\">\n",
       "      <th></th>\n",
       "      <th>f0</th>\n",
       "      <th>f1</th>\n",
       "      <th>f2</th>\n",
       "      <th>product</th>\n",
       "    </tr>\n",
       "  </thead>\n",
       "  <tbody>\n",
       "    <tr>\n",
       "      <th>71751</th>\n",
       "      <td>-0.836717</td>\n",
       "      <td>-2.227439</td>\n",
       "      <td>-0.078489</td>\n",
       "      <td>61.212375</td>\n",
       "    </tr>\n",
       "    <tr>\n",
       "      <th>80493</th>\n",
       "      <td>-0.821648</td>\n",
       "      <td>0.740237</td>\n",
       "      <td>-1.000811</td>\n",
       "      <td>41.850118</td>\n",
       "    </tr>\n",
       "    <tr>\n",
       "      <th>2655</th>\n",
       "      <td>-2.651336</td>\n",
       "      <td>-0.235721</td>\n",
       "      <td>-0.244546</td>\n",
       "      <td>57.776581</td>\n",
       "    </tr>\n",
       "    <tr>\n",
       "      <th>53233</th>\n",
       "      <td>1.077998</td>\n",
       "      <td>0.938090</td>\n",
       "      <td>0.511313</td>\n",
       "      <td>100.053761</td>\n",
       "    </tr>\n",
       "    <tr>\n",
       "      <th>91141</th>\n",
       "      <td>-1.173938</td>\n",
       "      <td>2.387270</td>\n",
       "      <td>1.034363</td>\n",
       "      <td>109.897122</td>\n",
       "    </tr>\n",
       "  </tbody>\n",
       "</table>\n",
       "</div>"
      ],
      "text/plain": [
       "             f0        f1        f2     product\n",
       "71751 -0.836717 -2.227439 -0.078489   61.212375\n",
       "80493 -0.821648  0.740237 -1.000811   41.850118\n",
       "2655  -2.651336 -0.235721 -0.244546   57.776581\n",
       "53233  1.077998  0.938090  0.511313  100.053761\n",
       "91141 -1.173938  2.387270  1.034363  109.897122"
      ]
     },
     "execution_count": 49,
     "metadata": {},
     "output_type": "execute_result"
    }
   ],
   "source": [
    "valid_2.head()"
   ]
  },
  {
   "cell_type": "markdown",
   "metadata": {},
   "source": [
    "Time to train the model."
   ]
  },
  {
   "cell_type": "markdown",
   "metadata": {},
   "source": [
    "Let's create features and target for each df (region). It is also step 2.3"
   ]
  },
  {
   "cell_type": "code",
   "execution_count": 50,
   "metadata": {},
   "outputs": [],
   "source": [
    "# Target and Features of df_0 (first region)\n",
    "target_0_train=train_0['product']\n",
    "features_0_train=train_0.drop(['product'],axis=1)\n",
    "\n",
    "target_0_valid=valid_0['product']\n",
    "features_0_valid=valid_0.drop(['product'],axis=1)\n",
    "\n",
    "# Target and Features of df_1 (second region)\n",
    "target_1_train=train_1['product']\n",
    "features_1_train=train_1.drop(['product'],axis=1)\n",
    "\n",
    "target_1_valid=valid_1['product']\n",
    "features_1_valid=valid_1.drop(['product'],axis=1)\n",
    "\n",
    "# Target and Features of df_2 (third region)\n",
    "target_2_train=train_2['product']\n",
    "features_2_train=train_2.drop(['product'],axis=1)\n",
    "\n",
    "target_2_valid=valid_2['product']\n",
    "features_2_valid=valid_2.drop(['product'],axis=1)"
   ]
  },
  {
   "cell_type": "code",
   "execution_count": 51,
   "metadata": {},
   "outputs": [],
   "source": [
    "from sklearn.linear_model import LinearRegression"
   ]
  },
  {
   "cell_type": "code",
   "execution_count": 52,
   "metadata": {},
   "outputs": [],
   "source": [
    "#df_0 (first region) learning.\n",
    "model=LinearRegression()\n",
    "fit_0=model.fit(features_0_train,target_0_train)\n",
    "predict_valid_0=model.predict(features_0_valid)\n",
    "\n",
    "#df_1 (second region) Learning.\n",
    "fit_1=model.fit(features_1_train,target_1_train)\n",
    "predict_valid_1=model.predict(features_1_valid)\n",
    "\n",
    "#df_2 (third region) Learning.\n",
    "fit_2=model.fit(features_2_train,target_2_train)\n",
    "predict_valid_2=model.predict(features_2_valid)"
   ]
  },
  {
   "cell_type": "markdown",
   "metadata": {},
   "source": [
    "2.4. Print the average volume of predicted reserves and model RMSE."
   ]
  },
  {
   "cell_type": "code",
   "execution_count": 53,
   "metadata": {},
   "outputs": [],
   "source": [
    "from sklearn.metrics import mean_squared_error"
   ]
  },
  {
   "cell_type": "code",
   "execution_count": 54,
   "metadata": {
    "scrolled": true
   },
   "outputs": [
    {
     "name": "stdout",
     "output_type": "stream",
     "text": [
      "Linear Regression ML for first region:\n",
      "MSE of First region: 1412.2129364399243\n",
      "RMSE of the First region: 37.5794217150813\n"
     ]
    }
   ],
   "source": [
    "mse_0=mean_squared_error(target_0_valid,predict_valid_0)\n",
    "print('Linear Regression ML for first region:')\n",
    "print('MSE of First region:',mse_0)\n",
    "print('RMSE of the First region:',mse_0**0.5)"
   ]
  },
  {
   "cell_type": "code",
   "execution_count": 55,
   "metadata": {},
   "outputs": [
    {
     "name": "stdout",
     "output_type": "stream",
     "text": [
      "Linear Regression ML for the second region:\n",
      "MSE of the Secong region: 0.7976263360391157\n",
      "RMSE of the Second region: 0.893099286775617\n"
     ]
    }
   ],
   "source": [
    "mse_1=mean_squared_error(target_1_valid,predict_valid_1)\n",
    "print('Linear Regression ML for the second region:')\n",
    "print('MSE of the Secong region:',mse_1)\n",
    "print('RMSE of the Second region:',mse_1**0.5)"
   ]
  },
  {
   "cell_type": "code",
   "execution_count": 56,
   "metadata": {},
   "outputs": [
    {
     "name": "stdout",
     "output_type": "stream",
     "text": [
      "Linear Regression ML for first region:\n",
      "MSE of First region: 1602.3775813236196\n",
      "RMSE of the First region: 40.02970873393434\n"
     ]
    }
   ],
   "source": [
    "mse_2=mean_squared_error(target_2_valid,predict_valid_2)\n",
    "print('Linear Regression ML for first region:')\n",
    "print('MSE of First region:',mse_2)\n",
    "print('RMSE of the First region:',mse_2**0.5)"
   ]
  },
  {
   "cell_type": "code",
   "execution_count": 57,
   "metadata": {},
   "outputs": [
    {
     "name": "stdout",
     "output_type": "stream",
     "text": [
      "Average volume of predicted reserves for first region: 92.59256778438035\n"
     ]
    }
   ],
   "source": [
    "#Avg volume of predicted reserves.\n",
    "\n",
    "avg_vol_0=predict_valid_0.mean()\n",
    "print('Average volume of predicted reserves for first region:', avg_vol_0)"
   ]
  },
  {
   "cell_type": "code",
   "execution_count": 58,
   "metadata": {},
   "outputs": [
    {
     "name": "stdout",
     "output_type": "stream",
     "text": [
      "Average volume of predicted reserves for second region: 68.728546895446\n"
     ]
    }
   ],
   "source": [
    "avg_vol_1=predict_valid_1.mean()\n",
    "print('Average volume of predicted reserves for second region:', avg_vol_1)"
   ]
  },
  {
   "cell_type": "code",
   "execution_count": 59,
   "metadata": {},
   "outputs": [
    {
     "name": "stdout",
     "output_type": "stream",
     "text": [
      "Average volume of predicted reserves for first region: 94.96504596800489\n"
     ]
    }
   ],
   "source": [
    "avg_vol_2=predict_valid_2.mean()\n",
    "print('Average volume of predicted reserves for first region:', avg_vol_2)"
   ]
  },
  {
   "cell_type": "markdown",
   "metadata": {},
   "source": [
    "Conclusion. From the results above the lowest RMSE is in second region which means the data deviates les from the line. However the average volume of predicted reserves are better in first and third regions."
   ]
  },
  {
   "cell_type": "markdown",
   "metadata": {},
   "source": [
    "## Prepare for profit calculation."
   ]
  },
  {
   "cell_type": "markdown",
   "metadata": {},
   "source": [
    "3.1. Store all key values for calculations in separate variables."
   ]
  },
  {
   "cell_type": "markdown",
   "metadata": {},
   "source": [
    "We need to consider the conditions that were given in this project."
   ]
  },
  {
   "cell_type": "code",
   "execution_count": 60,
   "metadata": {},
   "outputs": [],
   "source": [
    "budget_for_200_wells=10**8\n",
    "one_unit_oil_well=(10**8)/200\n",
    "unit_rev=4500\n",
    "min_risk=0.025"
   ]
  },
  {
   "cell_type": "markdown",
   "metadata": {},
   "source": [
    "3.2. Calculate the volume of reserves sufficient for developing a new well without losses. Compare the obtained value with the average volume of reserves in each region."
   ]
  },
  {
   "cell_type": "markdown",
   "metadata": {},
   "source": [
    "Let's calculate the volume of reserves sufficient for developing a new well without losses."
   ]
  },
  {
   "cell_type": "code",
   "execution_count": 61,
   "metadata": {},
   "outputs": [
    {
     "name": "stdout",
     "output_type": "stream",
     "text": [
      "Volume of reserves sufficient for developing a new well without losses is: 111\n"
     ]
    }
   ],
   "source": [
    "no_loss=round(one_unit_oil_well/unit_rev)\n",
    "print('Volume of reserves sufficient for developing a new well without losses is:',no_loss)"
   ]
  },
  {
   "cell_type": "markdown",
   "metadata": {},
   "source": [
    "3.3. Provide the findings about the preparation for profit calculation step."
   ]
  },
  {
   "cell_type": "markdown",
   "metadata": {},
   "source": [
    "Which means there should be no less than 111000 barrels for one oil well. \n",
    "\n",
    "From this result we see that all regions are insufficient for developing a new oil well because all of them are less than 111000 barrels."
   ]
  },
  {
   "cell_type": "markdown",
   "metadata": {},
   "source": [
    "## Write a function to calculate profit from a set of selected oil wells and model predictions."
   ]
  },
  {
   "cell_type": "markdown",
   "metadata": {},
   "source": [
    "4.1. Pick the wells with the highest values of predictions."
   ]
  },
  {
   "cell_type": "markdown",
   "metadata": {},
   "source": [
    "From the conditions we need to choose out of 500 observations 200 best."
   ]
  },
  {
   "cell_type": "markdown",
   "metadata": {},
   "source": [
    "Let's add column of predictions (calculated above) for validation data set."
   ]
  },
  {
   "cell_type": "code",
   "execution_count": 62,
   "metadata": {},
   "outputs": [],
   "source": [
    "from numpy.random import RandomState"
   ]
  },
  {
   "cell_type": "code",
   "execution_count": 67,
   "metadata": {},
   "outputs": [
    {
     "name": "stderr",
     "output_type": "stream",
     "text": [
      "/tmp/ipykernel_37/2168126677.py:1: SettingWithCopyWarning: \n",
      "A value is trying to be set on a copy of a slice from a DataFrame.\n",
      "Try using .loc[row_indexer,col_indexer] = value instead\n",
      "\n",
      "See the caveats in the documentation: https://pandas.pydata.org/pandas-docs/stable/user_guide/indexing.html#returning-a-view-versus-a-copy\n",
      "  valid_0['predictions']=predict_valid_0\n",
      "/tmp/ipykernel_37/2168126677.py:2: SettingWithCopyWarning: \n",
      "A value is trying to be set on a copy of a slice from a DataFrame.\n",
      "Try using .loc[row_indexer,col_indexer] = value instead\n",
      "\n",
      "See the caveats in the documentation: https://pandas.pydata.org/pandas-docs/stable/user_guide/indexing.html#returning-a-view-versus-a-copy\n",
      "  valid_1['predictions']=predict_valid_1\n",
      "/tmp/ipykernel_37/2168126677.py:3: SettingWithCopyWarning: \n",
      "A value is trying to be set on a copy of a slice from a DataFrame.\n",
      "Try using .loc[row_indexer,col_indexer] = value instead\n",
      "\n",
      "See the caveats in the documentation: https://pandas.pydata.org/pandas-docs/stable/user_guide/indexing.html#returning-a-view-versus-a-copy\n",
      "  valid_2['predictions']=predict_valid_2\n"
     ]
    }
   ],
   "source": [
    "valid_0['predictions']=predict_valid_0\n",
    "valid_1['predictions']=predict_valid_1\n",
    "valid_2['predictions']=predict_valid_2\n",
    "\n",
    "## Let's create 200 best.\n",
    "first_200_best=valid_0.sample(n=500,replace=True).sort_values(by=['predictions'],ascending=False).head(200)\n",
    "second_200_best=valid_1.sample(n=500,replace=True).sort_values(by=['predictions'],ascending=False).head(200)\n",
    "third_200_best=valid_2.sample(n=500,replace=True).sort_values(by=['predictions'],ascending=False).head(200)"
   ]
  },
  {
   "cell_type": "markdown",
   "metadata": {},
   "source": [
    "4.2. Summarize the target volume of reserves in accordance with these predictions."
   ]
  },
  {
   "cell_type": "code",
   "execution_count": 68,
   "metadata": {},
   "outputs": [
    {
     "name": "stdout",
     "output_type": "stream",
     "text": [
      "First region top 200 oil wells volume reserves: 23161.179349189228\n"
     ]
    }
   ],
   "source": [
    "first_region_barr=first_200_best['product'].sum()\n",
    "print('First region top 200 oil wells volume reserves:',first_region_barr)"
   ]
  },
  {
   "cell_type": "code",
   "execution_count": 69,
   "metadata": {},
   "outputs": [
    {
     "name": "stdout",
     "output_type": "stream",
     "text": [
      "Second region top 200 oil wells volume reserves: 23585.070955557334\n"
     ]
    }
   ],
   "source": [
    "second_region_barr=second_200_best['product'].sum()\n",
    "print('Second region top 200 oil wells volume reserves:',second_region_barr)"
   ]
  },
  {
   "cell_type": "code",
   "execution_count": 70,
   "metadata": {},
   "outputs": [
    {
     "name": "stdout",
     "output_type": "stream",
     "text": [
      "Third region top 200 oil wells volume reserves: 23528.417706353346\n"
     ]
    }
   ],
   "source": [
    "third_region_barr=third_200_best['product'].sum()\n",
    "print('Third region top 200 oil wells volume reserves:',third_region_barr)"
   ]
  },
  {
   "cell_type": "markdown",
   "metadata": {},
   "source": [
    "From the results above first region has the largest amout of barrels. "
   ]
  },
  {
   "cell_type": "markdown",
   "metadata": {},
   "source": [
    "4.3. Provide findings: suggest a region for oil wells' development and justify the choice. Calculate the profit for the obtained volume of reserves."
   ]
  },
  {
   "cell_type": "code",
   "execution_count": 71,
   "metadata": {},
   "outputs": [
    {
     "name": "stdout",
     "output_type": "stream",
     "text": [
      "Revenue of first region for top 200 spots: 4225307.071351528\n"
     ]
    }
   ],
   "source": [
    "## First region revenue.\n",
    "top_200_first_rev=first_region_barr*unit_rev-budget_for_200_wells\n",
    "print('Revenue of first region for top 200 spots:',top_200_first_rev)"
   ]
  },
  {
   "cell_type": "code",
   "execution_count": 72,
   "metadata": {},
   "outputs": [
    {
     "name": "stdout",
     "output_type": "stream",
     "text": [
      "Revenue of second region for top 200 spots: 6132819.300007999\n"
     ]
    }
   ],
   "source": [
    "## Second region revenue.\n",
    "top_200_second_rev=second_region_barr*unit_rev-budget_for_200_wells\n",
    "print('Revenue of second region for top 200 spots:',top_200_second_rev)"
   ]
  },
  {
   "cell_type": "code",
   "execution_count": 73,
   "metadata": {},
   "outputs": [
    {
     "name": "stdout",
     "output_type": "stream",
     "text": [
      "Revenue of third region for top 200 spots: 5877879.678590059\n"
     ]
    }
   ],
   "source": [
    "## Third region revenue.\n",
    "top_200_third_rev=third_region_barr*unit_rev-budget_for_200_wells\n",
    "print('Revenue of third region for top 200 spots:',top_200_third_rev)"
   ]
  },
  {
   "cell_type": "markdown",
   "metadata": {},
   "source": [
    "From the results above the most profitable region is second region."
   ]
  },
  {
   "cell_type": "markdown",
   "metadata": {},
   "source": [
    "## Calculate risks and profit for each region."
   ]
  },
  {
   "cell_type": "markdown",
   "metadata": {},
   "source": [
    "5.1. Use the bootstrapping technique with 1000 samples to find the distribution of profit."
   ]
  },
  {
   "cell_type": "code",
   "execution_count": 74,
   "metadata": {},
   "outputs": [],
   "source": [
    "state = np.random.RandomState(12345)"
   ]
  },
  {
   "cell_type": "code",
   "execution_count": 75,
   "metadata": {},
   "outputs": [
    {
     "name": "stdout",
     "output_type": "stream",
     "text": [
      "Average revenue of first region is: 3961649.8480237117\n"
     ]
    }
   ],
   "source": [
    "## First region\n",
    "values_0=[]\n",
    "subsample_0=[]\n",
    "sub_barr_0=0\n",
    "for i in range(1000):\n",
    "    subsample_0=valid_0.sample(n=500,replace=True,random_state=state).sort_values(by=['predictions'],ascending=False).head(200)\n",
    "    sub_barr_0=subsample_0['product'].sum()\n",
    "    sub_rev_0=sub_barr_0*unit_rev-budget_for_200_wells\n",
    "    values_0.append(sub_rev_0)\n",
    "values_0=pd.Series(values_0)    \n",
    "avg_rev_0=values_0.mean()\n",
    "\n",
    "print('Average revenue of first region is:',avg_rev_0)"
   ]
  },
  {
   "cell_type": "code",
   "execution_count": 76,
   "metadata": {},
   "outputs": [
    {
     "name": "stdout",
     "output_type": "stream",
     "text": [
      "Average revenue of second region is: 4611558.172772396\n"
     ]
    }
   ],
   "source": [
    "## Second region.\n",
    "values_1=[]\n",
    "subsample_1=[]\n",
    "sub_barr_1=0\n",
    "for i in range(1000):\n",
    "    subsample_1=valid_1.sample(n=500,replace=True,random_state=state).sort_values(by=['predictions'],ascending=False).head(200)\n",
    "    sub_barr_1=subsample_1['product'].sum()\n",
    "    sub_rev_1=sub_barr_1*unit_rev-budget_for_200_wells\n",
    "    values_1.append(sub_rev_1)\n",
    "values_1=pd.Series(values_1)    \n",
    "avg_rev_1=values_1.mean()\n",
    "\n",
    "print('Average revenue of second region is:',avg_rev_1)"
   ]
  },
  {
   "cell_type": "code",
   "execution_count": 77,
   "metadata": {},
   "outputs": [
    {
     "name": "stdout",
     "output_type": "stream",
     "text": [
      "Average revenue of third region is: 3929504.7517060456\n"
     ]
    }
   ],
   "source": [
    "## Third region.\n",
    "values_2=[]\n",
    "subsample_2=[]\n",
    "sub_barr_2=0\n",
    "for i in range(1000):\n",
    "    subsample_2=valid_2.sample(n=500,replace=True,random_state=state).sort_values(by=['predictions'],ascending=False).head(200)\n",
    "    sub_barr_2=subsample_2['product'].sum()\n",
    "    sub_rev_2=sub_barr_2*unit_rev-budget_for_200_wells\n",
    "    values_2.append(sub_rev_2)\n",
    "values_2=pd.Series(values_2)    \n",
    "avg_rev_2=values_2.mean()\n",
    "\n",
    "print('Average revenue of third region is:',avg_rev_2)"
   ]
  },
  {
   "cell_type": "markdown",
   "metadata": {},
   "source": [
    "From the results the most profitable region is second region."
   ]
  },
  {
   "cell_type": "markdown",
   "metadata": {},
   "source": [
    "5.2. Find average profit, 95% confidence interval and risk of losses. Loss is negative profit, calculate it as a probability and then express as a percentage."
   ]
  },
  {
   "cell_type": "code",
   "execution_count": 80,
   "metadata": {},
   "outputs": [
    {
     "name": "stdout",
     "output_type": "stream",
     "text": [
      "Average revenue of first region is: 3961649.8480237117\n",
      "\n",
      "The lower average revenue is: -1112155.4589049604\n",
      "The upper average revenue is: 9097669.41553423\n"
     ]
    }
   ],
   "source": [
    "## First region\n",
    "#values_0_con=[]\n",
    "#subsample_0_con=[]\n",
    "#sub_barr_0_con=0\n",
    "#for i in range(1000):\n",
    "#    subsample_0_con=valid_0.sample(n=500,replace=True,random_state=state).sort_values(by=['predictions'],ascending=False).head(200)\n",
    "#    sub_barr_0_con=subsample_0_con['product'].sum()\n",
    "#    sub_rev_0_con=sub_barr_0_con*unit_rev-budget_for_200_wells\n",
    "#    values_0_con.append(sub_rev_0_con)\n",
    "#values_0_con=pd.Series(values_0_con)    \n",
    "#avg_rev_0_con=values_0_con.mean()\n",
    "\n",
    "lower_0=np.quantile(values_0,0.025)\n",
    "upper_0=np.quantile(values_0,0.975)\n",
    "\n",
    "print('Average revenue of first region is:',avg_rev_0)\n",
    "print()\n",
    "print('The lower average revenue is:',lower_0)\n",
    "print('The upper average revenue is:',upper_0)\n"
   ]
  },
  {
   "cell_type": "code",
   "execution_count": 81,
   "metadata": {},
   "outputs": [
    {
     "name": "stdout",
     "output_type": "stream",
     "text": [
      "Average revenue of second region is: 4611558.172772396\n",
      "\n",
      "The lower average revenue is: 780508.107517418\n",
      "The upper average revenue is: 8629520.602637231\n"
     ]
    }
   ],
   "source": [
    "## Second region\n",
    "#values_1_con=[]\n",
    "#subsample_1_con=[]\n",
    "#sub_barr_1_con=0\n",
    "#for i in range(1000):\n",
    "#    subsample_1_con=valid_1.sample(n=500,replace=True,random_state=state).sort_values(by=['predictions'],ascending=False).head(200)\n",
    "#    sub_barr_1_con=subsample_1_con['product'].sum()\n",
    " #   sub_rev_1_con=sub_barr_1_con*unit_rev-budget_for_200_wells\n",
    "#    values_1_con.append(sub_rev_1_con)\n",
    "#values_1_con=pd.Series(values_1_con)    \n",
    "#avg_rev_1_con=values_1_con.mean()\n",
    "\n",
    "lower_1=np.quantile(values_1,0.025)\n",
    "upper_1=np.quantile(values_1,0.975)\n",
    "\n",
    "print('Average revenue of second region is:',avg_rev_1)\n",
    "print()\n",
    "print('The lower average revenue is:',lower_1)\n",
    "print('The upper average revenue is:',upper_1)\n"
   ]
  },
  {
   "cell_type": "code",
   "execution_count": 82,
   "metadata": {
    "scrolled": true
   },
   "outputs": [
    {
     "name": "stdout",
     "output_type": "stream",
     "text": [
      "Average revenue of the third region is: 3929504.7517060456\n",
      "\n",
      "The lower average revenue is: -1122276.2537857532\n",
      "The upper average revenue is: 9345629.145511637\n"
     ]
    }
   ],
   "source": [
    "## Third region\n",
    "#values_2_con=[]\n",
    "#subsample_2_con=[]\n",
    "#sub_barr_2_con=0\n",
    "#for i in range(1000):\n",
    "#    subsample_2_con=valid_2.sample(n=500,replace=True,random_state=state).sort_values(by=['predictions'],ascending=False).head(200)\n",
    "#    sub_barr_2_con=subsample_2_con['product'].sum()\n",
    "#    sub_rev_2_con=sub_barr_2_con*unit_rev-budget_for_200_wells\n",
    "#    values_2_con.append(sub_rev_2_con)\n",
    "#values_2_con=pd.Series(values_2_con)    \n",
    "#avg_rev_2_con=values_2_con.mean()\n",
    "\n",
    "lower_2=np.quantile(values_2,0.025)\n",
    "upper_2=np.quantile(values_2,0.975)\n",
    "\n",
    "print('Average revenue of the third region is:',avg_rev_2)\n",
    "print()\n",
    "print('The lower average revenue is:',lower_2)\n",
    "print('The upper average revenue is:',upper_2)\n"
   ]
  },
  {
   "cell_type": "markdown",
   "metadata": {},
   "source": [
    "Loss calculation."
   ]
  },
  {
   "cell_type": "markdown",
   "metadata": {},
   "source": [
    "First region."
   ]
  },
  {
   "cell_type": "code",
   "execution_count": 88,
   "metadata": {
    "scrolled": true
   },
   "outputs": [
    {
     "name": "stdout",
     "output_type": "stream",
     "text": [
      "57\n"
     ]
    }
   ],
   "source": [
    "count_0=0 #Number of negative average revenue values\n",
    "for i in range(len(values_0)):\n",
    "    if values_0_con[i]<0:\n",
    "        count_0=count_0+1\n",
    "\n",
    "print(count_0)"
   ]
  },
  {
   "cell_type": "code",
   "execution_count": 92,
   "metadata": {},
   "outputs": [
    {
     "name": "stdout",
     "output_type": "stream",
     "text": [
      "Loss of the first region is: 5.70%\n"
     ]
    }
   ],
   "source": [
    "tot_count_0=values_0.count()\n",
    "loss_0=count_0/tot_count_0\n",
    "print('Loss of the first region is: {:.2%}'.format(loss_0))"
   ]
  },
  {
   "cell_type": "markdown",
   "metadata": {},
   "source": [
    "Second region."
   ]
  },
  {
   "cell_type": "code",
   "execution_count": 93,
   "metadata": {},
   "outputs": [
    {
     "name": "stdout",
     "output_type": "stream",
     "text": [
      "Loss of the second region is: 1.30%\n"
     ]
    }
   ],
   "source": [
    "count_1=0 #Number of negative average revenue values\n",
    "for i in range(len(values_1)):\n",
    "    if values_1_con[i]<0:\n",
    "        count_1=count_1+1\n",
    "        \n",
    "tot_count_1=values_1.count()\n",
    "loss_1=count_1/tot_count_1\n",
    "print('Loss of the second region is: {:.2%}'.format(loss_1))"
   ]
  },
  {
   "cell_type": "markdown",
   "metadata": {},
   "source": [
    "Third region."
   ]
  },
  {
   "cell_type": "code",
   "execution_count": 94,
   "metadata": {},
   "outputs": [
    {
     "name": "stdout",
     "output_type": "stream",
     "text": [
      "Loss of the third region is: 6.50%\n"
     ]
    }
   ],
   "source": [
    "count_2=0 #Number of negative average revenue values\n",
    "for i in range(len(values_2)):\n",
    "    if values_2[i]<0:\n",
    "        count_2=count_2+1\n",
    "        \n",
    "tot_count_2=values_2.count()\n",
    "loss_2=count_2/tot_count_2\n",
    "print('Loss of the third region is: {:.2%}'.format(loss_2))"
   ]
  },
  {
   "cell_type": "markdown",
   "metadata": {},
   "source": [
    "5.3. Provide findings: suggest a region for development of oil wells and justify the choice."
   ]
  },
  {
   "cell_type": "markdown",
   "metadata": {},
   "source": [
    "From the analysis the conclusion that the best region as a profitble and less loss in profit is the second region.\n",
    "\n",
    "All the best!"
   ]
  }
 ],
 "metadata": {
  "ExecuteTimeLog": [
   {
    "duration": 55223,
    "start_time": "2022-04-14T21:09:01.551Z"
   },
   {
    "duration": 167,
    "start_time": "2022-04-14T21:16:48.374Z"
   },
   {
    "duration": 178,
    "start_time": "2022-04-14T21:18:21.086Z"
   },
   {
    "duration": 97,
    "start_time": "2022-04-14T21:18:32.296Z"
   },
   {
    "duration": 155,
    "start_time": "2022-04-14T21:20:30.191Z"
   },
   {
    "duration": 3,
    "start_time": "2022-04-14T21:21:12.310Z"
   },
   {
    "duration": 104,
    "start_time": "2022-04-14T21:21:15.982Z"
   },
   {
    "duration": 105,
    "start_time": "2022-04-14T21:21:29.685Z"
   },
   {
    "duration": 105,
    "start_time": "2022-04-14T21:21:52.725Z"
   },
   {
    "duration": 163,
    "start_time": "2022-04-14T21:21:57.186Z"
   },
   {
    "duration": 97,
    "start_time": "2022-04-14T21:28:42.908Z"
   },
   {
    "duration": 329,
    "start_time": "2022-04-14T21:29:34.955Z"
   },
   {
    "duration": 344,
    "start_time": "2022-04-14T21:30:19.778Z"
   },
   {
    "duration": 7,
    "start_time": "2022-04-14T21:30:31.034Z"
   },
   {
    "duration": 441,
    "start_time": "2022-04-14T21:31:25.191Z"
   },
   {
    "duration": 17,
    "start_time": "2022-04-14T21:31:53.044Z"
   },
   {
    "duration": 15,
    "start_time": "2022-04-14T21:32:43.491Z"
   },
   {
    "duration": 564,
    "start_time": "2022-04-14T21:32:47.518Z"
   },
   {
    "duration": 24,
    "start_time": "2022-04-14T21:33:08.136Z"
   },
   {
    "duration": 22,
    "start_time": "2022-04-14T21:33:23.586Z"
   },
   {
    "duration": 16,
    "start_time": "2022-04-14T21:33:59.563Z"
   },
   {
    "duration": 14,
    "start_time": "2022-04-14T21:34:10.470Z"
   },
   {
    "duration": 22,
    "start_time": "2022-04-14T21:34:37.848Z"
   },
   {
    "duration": 22,
    "start_time": "2022-04-14T21:34:42.560Z"
   },
   {
    "duration": 21,
    "start_time": "2022-04-14T21:34:43.531Z"
   },
   {
    "duration": 4,
    "start_time": "2022-04-14T21:35:01.414Z"
   },
   {
    "duration": 4,
    "start_time": "2022-04-14T21:35:10.068Z"
   },
   {
    "duration": 4,
    "start_time": "2022-04-14T21:35:17.840Z"
   },
   {
    "duration": 3468,
    "start_time": "2022-04-18T16:41:09.971Z"
   },
   {
    "duration": 3,
    "start_time": "2022-04-18T16:41:13.441Z"
   },
   {
    "duration": 411,
    "start_time": "2022-04-18T16:41:13.445Z"
   },
   {
    "duration": 422,
    "start_time": "2022-04-18T16:41:13.858Z"
   },
   {
    "duration": 6,
    "start_time": "2022-04-18T16:41:14.282Z"
   },
   {
    "duration": 334,
    "start_time": "2022-04-18T16:41:14.289Z"
   },
   {
    "duration": 13,
    "start_time": "2022-04-18T16:41:14.624Z"
   },
   {
    "duration": 12,
    "start_time": "2022-04-18T16:41:14.639Z"
   },
   {
    "duration": 12,
    "start_time": "2022-04-18T16:41:14.652Z"
   },
   {
    "duration": 501,
    "start_time": "2022-04-18T16:41:14.666Z"
   },
   {
    "duration": 19,
    "start_time": "2022-04-18T16:41:15.168Z"
   },
   {
    "duration": 28,
    "start_time": "2022-04-18T16:41:15.188Z"
   },
   {
    "duration": 4,
    "start_time": "2022-04-18T16:41:15.217Z"
   },
   {
    "duration": 5,
    "start_time": "2022-04-18T16:41:15.222Z"
   },
   {
    "duration": 5,
    "start_time": "2022-04-18T16:41:15.228Z"
   },
   {
    "duration": 9,
    "start_time": "2022-04-18T16:45:36.922Z"
   },
   {
    "duration": 78,
    "start_time": "2022-04-18T16:47:05.945Z"
   },
   {
    "duration": 15,
    "start_time": "2022-04-18T16:49:19.000Z"
   },
   {
    "duration": 11,
    "start_time": "2022-04-18T16:49:40.128Z"
   },
   {
    "duration": 11,
    "start_time": "2022-04-18T16:49:57.451Z"
   },
   {
    "duration": 2304,
    "start_time": "2022-04-18T16:50:09.603Z"
   },
   {
    "duration": 5,
    "start_time": "2022-04-18T16:50:11.910Z"
   },
   {
    "duration": 403,
    "start_time": "2022-04-18T16:50:11.916Z"
   },
   {
    "duration": 341,
    "start_time": "2022-04-18T16:50:12.320Z"
   },
   {
    "duration": 5,
    "start_time": "2022-04-18T16:50:12.664Z"
   },
   {
    "duration": 311,
    "start_time": "2022-04-18T16:50:12.671Z"
   },
   {
    "duration": 13,
    "start_time": "2022-04-18T16:50:12.984Z"
   },
   {
    "duration": 20,
    "start_time": "2022-04-18T16:50:13.003Z"
   },
   {
    "duration": 13,
    "start_time": "2022-04-18T16:50:13.025Z"
   },
   {
    "duration": 18,
    "start_time": "2022-04-18T16:50:13.039Z"
   },
   {
    "duration": 45,
    "start_time": "2022-04-18T16:50:13.059Z"
   },
   {
    "duration": 23,
    "start_time": "2022-04-18T16:50:13.106Z"
   },
   {
    "duration": 4,
    "start_time": "2022-04-18T16:50:13.130Z"
   },
   {
    "duration": 5,
    "start_time": "2022-04-18T16:50:13.136Z"
   },
   {
    "duration": 6,
    "start_time": "2022-04-18T16:50:13.142Z"
   },
   {
    "duration": 18,
    "start_time": "2022-04-18T16:50:13.150Z"
   },
   {
    "duration": 9,
    "start_time": "2022-04-18T17:06:08.881Z"
   },
   {
    "duration": 10,
    "start_time": "2022-04-18T17:06:33.871Z"
   },
   {
    "duration": 8,
    "start_time": "2022-04-18T17:06:38.887Z"
   },
   {
    "duration": 12,
    "start_time": "2022-04-18T17:07:28.511Z"
   },
   {
    "duration": 8,
    "start_time": "2022-04-18T17:07:55.835Z"
   },
   {
    "duration": 8,
    "start_time": "2022-04-18T17:08:04.935Z"
   },
   {
    "duration": 8,
    "start_time": "2022-04-18T17:10:04.365Z"
   },
   {
    "duration": 8,
    "start_time": "2022-04-18T17:10:42.180Z"
   },
   {
    "duration": 1022,
    "start_time": "2022-04-18T17:16:22.407Z"
   },
   {
    "duration": 13,
    "start_time": "2022-04-18T17:17:24.767Z"
   },
   {
    "duration": 11,
    "start_time": "2022-04-18T17:19:22.192Z"
   },
   {
    "duration": 6184,
    "start_time": "2022-04-19T14:16:39.442Z"
   },
   {
    "duration": 7,
    "start_time": "2022-04-19T14:16:45.631Z"
   },
   {
    "duration": 480,
    "start_time": "2022-04-19T14:16:45.640Z"
   },
   {
    "duration": 2076,
    "start_time": "2022-04-19T14:16:46.124Z"
   },
   {
    "duration": 8,
    "start_time": "2022-04-19T14:16:48.202Z"
   },
   {
    "duration": 325,
    "start_time": "2022-04-19T14:16:48.223Z"
   },
   {
    "duration": 22,
    "start_time": "2022-04-19T14:16:48.550Z"
   },
   {
    "duration": 20,
    "start_time": "2022-04-19T14:16:48.574Z"
   },
   {
    "duration": 40,
    "start_time": "2022-04-19T14:16:48.597Z"
   },
   {
    "duration": 705,
    "start_time": "2022-04-19T14:16:48.641Z"
   },
   {
    "duration": 29,
    "start_time": "2022-04-19T14:16:49.348Z"
   },
   {
    "duration": 52,
    "start_time": "2022-04-19T14:16:49.380Z"
   },
   {
    "duration": 6,
    "start_time": "2022-04-19T14:16:49.434Z"
   },
   {
    "duration": 16,
    "start_time": "2022-04-19T14:16:49.442Z"
   },
   {
    "duration": 14,
    "start_time": "2022-04-19T14:16:49.460Z"
   },
   {
    "duration": 29,
    "start_time": "2022-04-19T14:16:49.476Z"
   },
   {
    "duration": 13,
    "start_time": "2022-04-19T14:16:49.525Z"
   },
   {
    "duration": 16,
    "start_time": "2022-04-19T14:16:49.540Z"
   },
   {
    "duration": 17,
    "start_time": "2022-04-19T14:16:49.558Z"
   },
   {
    "duration": 1074,
    "start_time": "2022-04-19T14:16:49.577Z"
   },
   {
    "duration": 16,
    "start_time": "2022-04-19T14:16:50.653Z"
   },
   {
    "duration": 15,
    "start_time": "2022-04-19T14:16:50.671Z"
   },
   {
    "duration": 33,
    "start_time": "2022-04-19T14:41:46.823Z"
   },
   {
    "duration": 216,
    "start_time": "2022-04-19T14:43:37.157Z"
   },
   {
    "duration": 69,
    "start_time": "2022-04-19T14:43:45.362Z"
   },
   {
    "duration": 17,
    "start_time": "2022-04-19T14:46:56.385Z"
   },
   {
    "duration": 4,
    "start_time": "2022-04-19T14:47:00.325Z"
   },
   {
    "duration": 27,
    "start_time": "2022-04-19T14:47:29.244Z"
   },
   {
    "duration": 13,
    "start_time": "2022-04-19T15:01:36.648Z"
   },
   {
    "duration": 4,
    "start_time": "2022-04-19T15:01:37.932Z"
   },
   {
    "duration": 26,
    "start_time": "2022-04-19T15:01:38.607Z"
   },
   {
    "duration": 13,
    "start_time": "2022-04-19T15:01:44.684Z"
   },
   {
    "duration": 5,
    "start_time": "2022-04-19T15:01:45.720Z"
   },
   {
    "duration": 20,
    "start_time": "2022-04-19T15:01:46.300Z"
   },
   {
    "duration": 13,
    "start_time": "2022-04-19T15:01:51.295Z"
   },
   {
    "duration": 4,
    "start_time": "2022-04-19T15:01:52.554Z"
   },
   {
    "duration": 20,
    "start_time": "2022-04-19T15:01:53.055Z"
   },
   {
    "duration": 13,
    "start_time": "2022-04-19T15:02:05.937Z"
   },
   {
    "duration": 3,
    "start_time": "2022-04-19T15:02:07.404Z"
   },
   {
    "duration": 17,
    "start_time": "2022-04-19T15:02:08.041Z"
   },
   {
    "duration": 14,
    "start_time": "2022-04-19T15:02:17.148Z"
   },
   {
    "duration": 4,
    "start_time": "2022-04-19T15:02:18.178Z"
   },
   {
    "duration": 22,
    "start_time": "2022-04-19T15:02:18.789Z"
   },
   {
    "duration": 22,
    "start_time": "2022-04-19T15:02:27.526Z"
   },
   {
    "duration": 4,
    "start_time": "2022-04-19T15:02:28.785Z"
   },
   {
    "duration": 110,
    "start_time": "2022-04-19T15:02:29.421Z"
   },
   {
    "duration": 3,
    "start_time": "2022-04-19T15:22:28.806Z"
   },
   {
    "duration": 4,
    "start_time": "2022-04-19T15:28:56.082Z"
   },
   {
    "duration": 4,
    "start_time": "2022-04-19T15:28:56.963Z"
   },
   {
    "duration": 14,
    "start_time": "2022-04-19T15:28:58.385Z"
   },
   {
    "duration": 14,
    "start_time": "2022-04-19T15:28:59.395Z"
   },
   {
    "duration": 13,
    "start_time": "2022-04-19T15:29:20.678Z"
   },
   {
    "duration": 19,
    "start_time": "2022-04-19T15:29:33.664Z"
   },
   {
    "duration": 28,
    "start_time": "2022-04-19T15:29:47.638Z"
   },
   {
    "duration": 3,
    "start_time": "2022-04-19T15:29:55.936Z"
   },
   {
    "duration": 32,
    "start_time": "2022-04-19T15:29:56.720Z"
   },
   {
    "duration": 35,
    "start_time": "2022-04-19T15:32:00.326Z"
   },
   {
    "duration": 4057,
    "start_time": "2022-04-19T15:33:15.269Z"
   },
   {
    "duration": 5,
    "start_time": "2022-04-19T15:33:19.331Z"
   },
   {
    "duration": 445,
    "start_time": "2022-04-19T15:33:19.342Z"
   },
   {
    "duration": 2207,
    "start_time": "2022-04-19T15:33:19.789Z"
   },
   {
    "duration": 8,
    "start_time": "2022-04-19T15:33:22.000Z"
   },
   {
    "duration": 1880,
    "start_time": "2022-04-19T15:33:22.010Z"
   },
   {
    "duration": 38,
    "start_time": "2022-04-19T15:33:23.892Z"
   },
   {
    "duration": 22,
    "start_time": "2022-04-19T15:33:23.933Z"
   },
   {
    "duration": 20,
    "start_time": "2022-04-19T15:33:23.957Z"
   },
   {
    "duration": 61,
    "start_time": "2022-04-19T15:33:23.979Z"
   },
   {
    "duration": 26,
    "start_time": "2022-04-19T15:33:24.043Z"
   },
   {
    "duration": 61,
    "start_time": "2022-04-19T15:33:24.072Z"
   },
   {
    "duration": 6,
    "start_time": "2022-04-19T15:33:24.135Z"
   },
   {
    "duration": 5,
    "start_time": "2022-04-19T15:33:24.146Z"
   },
   {
    "duration": 8,
    "start_time": "2022-04-19T15:33:24.153Z"
   },
   {
    "duration": 79,
    "start_time": "2022-04-19T15:33:24.163Z"
   },
   {
    "duration": 14,
    "start_time": "2022-04-19T15:33:24.244Z"
   },
   {
    "duration": 20,
    "start_time": "2022-04-19T15:33:24.260Z"
   },
   {
    "duration": 14,
    "start_time": "2022-04-19T15:33:24.282Z"
   },
   {
    "duration": 34,
    "start_time": "2022-04-19T15:33:24.298Z"
   },
   {
    "duration": 12,
    "start_time": "2022-04-19T15:33:24.335Z"
   },
   {
    "duration": 18,
    "start_time": "2022-04-19T15:33:24.349Z"
   },
   {
    "duration": 35,
    "start_time": "2022-04-19T15:33:24.369Z"
   },
   {
    "duration": 20,
    "start_time": "2022-04-19T15:33:24.406Z"
   },
   {
    "duration": 115,
    "start_time": "2022-04-19T15:33:24.428Z"
   },
   {
    "duration": 3,
    "start_time": "2022-04-19T15:53:14.792Z"
   },
   {
    "duration": 28,
    "start_time": "2022-04-19T15:56:53.029Z"
   },
   {
    "duration": 127,
    "start_time": "2022-04-19T15:57:21.912Z"
   },
   {
    "duration": 22,
    "start_time": "2022-04-19T15:57:40.270Z"
   },
   {
    "duration": 4,
    "start_time": "2022-04-19T15:59:32.512Z"
   },
   {
    "duration": 28,
    "start_time": "2022-04-19T16:00:26.877Z"
   },
   {
    "duration": 48,
    "start_time": "2022-04-20T16:09:06.594Z"
   },
   {
    "duration": 3632,
    "start_time": "2022-04-20T16:09:13.965Z"
   },
   {
    "duration": 4,
    "start_time": "2022-04-20T16:09:17.599Z"
   },
   {
    "duration": 552,
    "start_time": "2022-04-20T16:09:17.604Z"
   },
   {
    "duration": 1428,
    "start_time": "2022-04-20T16:09:18.159Z"
   },
   {
    "duration": 7,
    "start_time": "2022-04-20T16:09:19.589Z"
   },
   {
    "duration": 407,
    "start_time": "2022-04-20T16:09:19.598Z"
   },
   {
    "duration": 14,
    "start_time": "2022-04-20T16:09:20.007Z"
   },
   {
    "duration": 12,
    "start_time": "2022-04-20T16:09:20.023Z"
   },
   {
    "duration": 12,
    "start_time": "2022-04-20T16:09:20.037Z"
   },
   {
    "duration": 2209,
    "start_time": "2022-04-20T16:09:20.052Z"
   },
   {
    "duration": 23,
    "start_time": "2022-04-20T16:09:22.263Z"
   },
   {
    "duration": 20,
    "start_time": "2022-04-20T16:09:22.302Z"
   },
   {
    "duration": 4,
    "start_time": "2022-04-20T16:09:22.323Z"
   },
   {
    "duration": 6,
    "start_time": "2022-04-20T16:09:22.329Z"
   },
   {
    "duration": 5,
    "start_time": "2022-04-20T16:09:22.336Z"
   },
   {
    "duration": 64,
    "start_time": "2022-04-20T16:09:22.342Z"
   },
   {
    "duration": 0,
    "start_time": "2022-04-20T16:09:22.408Z"
   },
   {
    "duration": 0,
    "start_time": "2022-04-20T16:09:22.409Z"
   },
   {
    "duration": 0,
    "start_time": "2022-04-20T16:09:22.410Z"
   },
   {
    "duration": 0,
    "start_time": "2022-04-20T16:09:22.412Z"
   },
   {
    "duration": 0,
    "start_time": "2022-04-20T16:09:22.413Z"
   },
   {
    "duration": 0,
    "start_time": "2022-04-20T16:09:22.414Z"
   },
   {
    "duration": 0,
    "start_time": "2022-04-20T16:09:22.415Z"
   },
   {
    "duration": 0,
    "start_time": "2022-04-20T16:09:22.416Z"
   },
   {
    "duration": 0,
    "start_time": "2022-04-20T16:09:22.417Z"
   },
   {
    "duration": 8,
    "start_time": "2022-04-20T16:10:24.840Z"
   },
   {
    "duration": 8,
    "start_time": "2022-04-20T16:11:00.515Z"
   },
   {
    "duration": 8,
    "start_time": "2022-04-20T16:11:55.729Z"
   },
   {
    "duration": 8,
    "start_time": "2022-04-20T16:12:30.454Z"
   },
   {
    "duration": 2175,
    "start_time": "2022-04-20T16:12:46.308Z"
   },
   {
    "duration": 2,
    "start_time": "2022-04-20T16:12:48.485Z"
   },
   {
    "duration": 311,
    "start_time": "2022-04-20T16:12:48.489Z"
   },
   {
    "duration": 291,
    "start_time": "2022-04-20T16:12:48.802Z"
   },
   {
    "duration": 5,
    "start_time": "2022-04-20T16:12:49.095Z"
   },
   {
    "duration": 1940,
    "start_time": "2022-04-20T16:12:49.102Z"
   },
   {
    "duration": 13,
    "start_time": "2022-04-20T16:12:51.044Z"
   },
   {
    "duration": 12,
    "start_time": "2022-04-20T16:12:51.058Z"
   },
   {
    "duration": 12,
    "start_time": "2022-04-20T16:12:51.071Z"
   },
   {
    "duration": 17,
    "start_time": "2022-04-20T16:12:51.101Z"
   },
   {
    "duration": 17,
    "start_time": "2022-04-20T16:12:51.120Z"
   },
   {
    "duration": 17,
    "start_time": "2022-04-20T16:12:51.138Z"
   },
   {
    "duration": 3,
    "start_time": "2022-04-20T16:12:51.156Z"
   },
   {
    "duration": 5,
    "start_time": "2022-04-20T16:12:51.161Z"
   },
   {
    "duration": 34,
    "start_time": "2022-04-20T16:12:51.167Z"
   },
   {
    "duration": 16,
    "start_time": "2022-04-20T16:12:51.202Z"
   },
   {
    "duration": 9,
    "start_time": "2022-04-20T16:12:51.220Z"
   },
   {
    "duration": 12,
    "start_time": "2022-04-20T16:12:51.231Z"
   },
   {
    "duration": 10,
    "start_time": "2022-04-20T16:12:51.244Z"
   },
   {
    "duration": 791,
    "start_time": "2022-04-20T16:12:51.255Z"
   },
   {
    "duration": 15,
    "start_time": "2022-04-20T16:12:52.048Z"
   },
   {
    "duration": 12,
    "start_time": "2022-04-20T16:12:52.064Z"
   },
   {
    "duration": 20,
    "start_time": "2022-04-20T16:12:52.077Z"
   },
   {
    "duration": 18,
    "start_time": "2022-04-20T16:12:52.100Z"
   },
   {
    "duration": 15,
    "start_time": "2022-04-20T16:12:52.119Z"
   },
   {
    "duration": 45,
    "start_time": "2022-04-20T16:13:12.613Z"
   },
   {
    "duration": 13,
    "start_time": "2022-04-20T16:13:28.598Z"
   },
   {
    "duration": 2078,
    "start_time": "2022-04-20T16:13:40.092Z"
   },
   {
    "duration": 3,
    "start_time": "2022-04-20T16:13:42.172Z"
   },
   {
    "duration": 275,
    "start_time": "2022-04-20T16:13:42.177Z"
   },
   {
    "duration": 264,
    "start_time": "2022-04-20T16:13:42.454Z"
   },
   {
    "duration": 6,
    "start_time": "2022-04-20T16:13:42.720Z"
   },
   {
    "duration": 276,
    "start_time": "2022-04-20T16:13:42.728Z"
   },
   {
    "duration": 21,
    "start_time": "2022-04-20T16:13:43.006Z"
   },
   {
    "duration": 18,
    "start_time": "2022-04-20T16:13:43.029Z"
   },
   {
    "duration": 17,
    "start_time": "2022-04-20T16:13:43.049Z"
   },
   {
    "duration": 46,
    "start_time": "2022-04-20T16:13:43.070Z"
   },
   {
    "duration": 19,
    "start_time": "2022-04-20T16:13:43.118Z"
   },
   {
    "duration": 17,
    "start_time": "2022-04-20T16:13:43.139Z"
   },
   {
    "duration": 4,
    "start_time": "2022-04-20T16:13:43.157Z"
   },
   {
    "duration": 5,
    "start_time": "2022-04-20T16:13:43.162Z"
   },
   {
    "duration": 33,
    "start_time": "2022-04-20T16:13:43.168Z"
   },
   {
    "duration": 17,
    "start_time": "2022-04-20T16:13:43.202Z"
   },
   {
    "duration": 9,
    "start_time": "2022-04-20T16:13:43.221Z"
   },
   {
    "duration": 8,
    "start_time": "2022-04-20T16:13:43.232Z"
   },
   {
    "duration": 9,
    "start_time": "2022-04-20T16:13:43.242Z"
   },
   {
    "duration": 6,
    "start_time": "2022-04-20T16:13:43.252Z"
   },
   {
    "duration": 5,
    "start_time": "2022-04-20T16:13:43.259Z"
   },
   {
    "duration": 12,
    "start_time": "2022-04-20T16:13:43.265Z"
   },
   {
    "duration": 36,
    "start_time": "2022-04-20T16:13:43.279Z"
   },
   {
    "duration": 3,
    "start_time": "2022-04-20T16:13:43.316Z"
   },
   {
    "duration": 181,
    "start_time": "2022-04-20T16:13:43.320Z"
   },
   {
    "duration": 8,
    "start_time": "2022-04-20T16:14:00.476Z"
   },
   {
    "duration": 7,
    "start_time": "2022-04-20T16:14:12.335Z"
   },
   {
    "duration": 12,
    "start_time": "2022-04-20T16:16:00.516Z"
   },
   {
    "duration": 30,
    "start_time": "2022-04-20T16:16:11.663Z"
   },
   {
    "duration": 22,
    "start_time": "2022-04-20T16:16:40.389Z"
   },
   {
    "duration": 26,
    "start_time": "2022-04-20T16:16:51.304Z"
   },
   {
    "duration": 193,
    "start_time": "2022-04-20T16:25:50.260Z"
   },
   {
    "duration": 128,
    "start_time": "2022-04-20T16:26:21.745Z"
   },
   {
    "duration": 206,
    "start_time": "2022-04-20T16:27:01.777Z"
   },
   {
    "duration": 130,
    "start_time": "2022-04-20T16:30:01.907Z"
   },
   {
    "duration": 181,
    "start_time": "2022-04-20T16:30:28.256Z"
   },
   {
    "duration": 101,
    "start_time": "2022-04-20T16:30:36.208Z"
   },
   {
    "duration": 183,
    "start_time": "2022-04-20T16:30:55.624Z"
   },
   {
    "duration": 102,
    "start_time": "2022-04-20T16:31:19.170Z"
   },
   {
    "duration": 97,
    "start_time": "2022-04-20T16:31:38.542Z"
   },
   {
    "duration": 107,
    "start_time": "2022-04-20T16:31:47.351Z"
   },
   {
    "duration": 113,
    "start_time": "2022-04-20T16:31:55.482Z"
   },
   {
    "duration": 110,
    "start_time": "2022-04-20T16:32:13.672Z"
   },
   {
    "duration": 100,
    "start_time": "2022-04-20T16:32:23.121Z"
   },
   {
    "duration": 4774,
    "start_time": "2022-04-20T20:23:04.283Z"
   },
   {
    "duration": 4,
    "start_time": "2022-04-20T20:23:09.060Z"
   },
   {
    "duration": 410,
    "start_time": "2022-04-20T20:23:09.066Z"
   },
   {
    "duration": 335,
    "start_time": "2022-04-20T20:23:09.478Z"
   },
   {
    "duration": 9,
    "start_time": "2022-04-20T20:23:09.817Z"
   },
   {
    "duration": 360,
    "start_time": "2022-04-20T20:23:09.829Z"
   },
   {
    "duration": 23,
    "start_time": "2022-04-20T20:23:10.192Z"
   },
   {
    "duration": 22,
    "start_time": "2022-04-20T20:23:10.218Z"
   },
   {
    "duration": 53,
    "start_time": "2022-04-20T20:23:10.242Z"
   },
   {
    "duration": 1748,
    "start_time": "2022-04-20T20:23:10.297Z"
   },
   {
    "duration": 45,
    "start_time": "2022-04-20T20:23:12.047Z"
   },
   {
    "duration": 31,
    "start_time": "2022-04-20T20:23:12.094Z"
   },
   {
    "duration": 4,
    "start_time": "2022-04-20T20:23:12.128Z"
   },
   {
    "duration": 4,
    "start_time": "2022-04-20T20:23:12.138Z"
   },
   {
    "duration": 6,
    "start_time": "2022-04-20T20:23:12.144Z"
   },
   {
    "duration": 29,
    "start_time": "2022-04-20T20:23:12.183Z"
   },
   {
    "duration": 14,
    "start_time": "2022-04-20T20:23:12.214Z"
   },
   {
    "duration": 51,
    "start_time": "2022-04-20T20:23:12.231Z"
   },
   {
    "duration": 57,
    "start_time": "2022-04-20T20:23:12.284Z"
   },
   {
    "duration": 70,
    "start_time": "2022-04-20T20:23:12.343Z"
   },
   {
    "duration": 69,
    "start_time": "2022-04-20T20:23:12.415Z"
   },
   {
    "duration": 251,
    "start_time": "2022-04-20T20:23:12.486Z"
   },
   {
    "duration": 203,
    "start_time": "2022-04-20T20:23:12.739Z"
   },
   {
    "duration": 213,
    "start_time": "2022-04-20T20:23:12.944Z"
   },
   {
    "duration": 257,
    "start_time": "2022-04-20T20:23:13.159Z"
   },
   {
    "duration": 209,
    "start_time": "2022-04-20T20:23:13.419Z"
   },
   {
    "duration": 223,
    "start_time": "2022-04-20T20:23:13.630Z"
   },
   {
    "duration": 234,
    "start_time": "2022-04-20T20:23:13.856Z"
   },
   {
    "duration": 225,
    "start_time": "2022-04-20T20:23:14.093Z"
   },
   {
    "duration": 210,
    "start_time": "2022-04-20T20:23:14.321Z"
   },
   {
    "duration": 992,
    "start_time": "2022-04-20T20:23:14.533Z"
   },
   {
    "duration": 23,
    "start_time": "2022-04-20T20:23:15.528Z"
   },
   {
    "duration": 50,
    "start_time": "2022-04-20T20:23:15.553Z"
   },
   {
    "duration": 165,
    "start_time": "2022-04-20T20:23:15.605Z"
   },
   {
    "duration": 0,
    "start_time": "2022-04-20T20:23:15.772Z"
   },
   {
    "duration": 0,
    "start_time": "2022-04-20T20:23:15.773Z"
   },
   {
    "duration": 26,
    "start_time": "2022-04-20T20:30:31.527Z"
   },
   {
    "duration": 29,
    "start_time": "2022-04-20T20:30:43.587Z"
   },
   {
    "duration": 14,
    "start_time": "2022-04-20T20:30:58.725Z"
   },
   {
    "duration": 13,
    "start_time": "2022-04-20T20:31:13.989Z"
   },
   {
    "duration": 22,
    "start_time": "2022-04-20T20:38:24.599Z"
   },
   {
    "duration": 20,
    "start_time": "2022-04-20T20:38:39.981Z"
   },
   {
    "duration": 13,
    "start_time": "2022-04-20T20:38:51.072Z"
   },
   {
    "duration": 12,
    "start_time": "2022-04-20T20:39:04.303Z"
   },
   {
    "duration": 21,
    "start_time": "2022-04-20T20:40:00.894Z"
   },
   {
    "duration": 13,
    "start_time": "2022-04-20T20:40:12.195Z"
   },
   {
    "duration": 13,
    "start_time": "2022-04-20T20:40:21.609Z"
   },
   {
    "duration": 42,
    "start_time": "2022-04-20T20:48:33.345Z"
   },
   {
    "duration": 23,
    "start_time": "2022-04-20T20:49:32.690Z"
   },
   {
    "duration": 15,
    "start_time": "2022-04-20T20:49:50.218Z"
   },
   {
    "duration": 14,
    "start_time": "2022-04-20T20:56:34.891Z"
   },
   {
    "duration": 33,
    "start_time": "2022-04-20T20:57:01.804Z"
   },
   {
    "duration": 289,
    "start_time": "2022-04-20T20:57:03.700Z"
   },
   {
    "duration": 3,
    "start_time": "2022-04-20T21:01:20.660Z"
   },
   {
    "duration": 7,
    "start_time": "2022-04-20T21:07:02.613Z"
   },
   {
    "duration": 8,
    "start_time": "2022-04-20T21:08:36.299Z"
   },
   {
    "duration": 8,
    "start_time": "2022-04-20T21:14:24.011Z"
   },
   {
    "duration": 4047,
    "start_time": "2022-04-21T11:48:18.975Z"
   },
   {
    "duration": 3,
    "start_time": "2022-04-21T11:48:23.024Z"
   },
   {
    "duration": 576,
    "start_time": "2022-04-21T11:48:23.029Z"
   },
   {
    "duration": 408,
    "start_time": "2022-04-21T11:48:23.607Z"
   },
   {
    "duration": 8,
    "start_time": "2022-04-21T11:48:24.016Z"
   },
   {
    "duration": 1952,
    "start_time": "2022-04-21T11:48:24.026Z"
   },
   {
    "duration": 13,
    "start_time": "2022-04-21T11:48:25.980Z"
   },
   {
    "duration": 26,
    "start_time": "2022-04-21T11:48:25.994Z"
   },
   {
    "duration": 20,
    "start_time": "2022-04-21T11:48:26.022Z"
   },
   {
    "duration": 2472,
    "start_time": "2022-04-21T11:48:26.045Z"
   },
   {
    "duration": 20,
    "start_time": "2022-04-21T11:48:28.518Z"
   },
   {
    "duration": 20,
    "start_time": "2022-04-21T11:48:28.540Z"
   },
   {
    "duration": 3,
    "start_time": "2022-04-21T11:48:28.562Z"
   },
   {
    "duration": 5,
    "start_time": "2022-04-21T11:48:28.567Z"
   },
   {
    "duration": 7,
    "start_time": "2022-04-21T11:48:28.601Z"
   },
   {
    "duration": 27,
    "start_time": "2022-04-21T11:48:28.610Z"
   },
   {
    "duration": 8,
    "start_time": "2022-04-21T11:48:28.639Z"
   },
   {
    "duration": 8,
    "start_time": "2022-04-21T11:48:28.648Z"
   },
   {
    "duration": 47,
    "start_time": "2022-04-21T11:48:28.658Z"
   },
   {
    "duration": 34,
    "start_time": "2022-04-21T11:48:28.709Z"
   },
   {
    "duration": 45,
    "start_time": "2022-04-21T11:48:28.745Z"
   },
   {
    "duration": 218,
    "start_time": "2022-04-21T11:48:28.799Z"
   },
   {
    "duration": 178,
    "start_time": "2022-04-21T11:48:29.019Z"
   },
   {
    "duration": 238,
    "start_time": "2022-04-21T11:48:29.200Z"
   },
   {
    "duration": 174,
    "start_time": "2022-04-21T11:48:29.440Z"
   },
   {
    "duration": 112,
    "start_time": "2022-04-21T11:48:29.618Z"
   },
   {
    "duration": 114,
    "start_time": "2022-04-21T11:48:29.732Z"
   },
   {
    "duration": 124,
    "start_time": "2022-04-21T11:48:29.850Z"
   },
   {
    "duration": 121,
    "start_time": "2022-04-21T11:48:29.976Z"
   },
   {
    "duration": 120,
    "start_time": "2022-04-21T11:48:30.099Z"
   },
   {
    "duration": 825,
    "start_time": "2022-04-21T11:48:30.220Z"
   },
   {
    "duration": 15,
    "start_time": "2022-04-21T11:48:31.047Z"
   },
   {
    "duration": 27,
    "start_time": "2022-04-21T11:48:31.063Z"
   },
   {
    "duration": 24,
    "start_time": "2022-04-21T11:48:31.091Z"
   },
   {
    "duration": 11,
    "start_time": "2022-04-21T11:48:31.118Z"
   },
   {
    "duration": 10,
    "start_time": "2022-04-21T11:48:31.131Z"
   },
   {
    "duration": 17,
    "start_time": "2022-04-21T11:48:31.143Z"
   },
   {
    "duration": 7,
    "start_time": "2022-04-21T11:48:31.161Z"
   },
   {
    "duration": 34,
    "start_time": "2022-04-21T11:48:31.170Z"
   },
   {
    "duration": 15,
    "start_time": "2022-04-21T11:48:31.206Z"
   },
   {
    "duration": 12,
    "start_time": "2022-04-21T11:48:31.223Z"
   },
   {
    "duration": 14,
    "start_time": "2022-04-21T11:48:31.237Z"
   },
   {
    "duration": 21,
    "start_time": "2022-04-21T11:48:31.252Z"
   },
   {
    "duration": 23,
    "start_time": "2022-04-21T11:48:31.275Z"
   },
   {
    "duration": 309,
    "start_time": "2022-04-21T11:48:31.304Z"
   },
   {
    "duration": 3,
    "start_time": "2022-04-21T11:48:31.614Z"
   },
   {
    "duration": 186,
    "start_time": "2022-04-21T11:48:31.619Z"
   },
   {
    "duration": 8,
    "start_time": "2022-04-21T11:48:31.809Z"
   },
   {
    "duration": 15,
    "start_time": "2022-04-21T11:48:31.818Z"
   },
   {
    "duration": 107,
    "start_time": "2022-04-21T11:48:31.835Z"
   },
   {
    "duration": 0,
    "start_time": "2022-04-21T11:48:31.943Z"
   },
   {
    "duration": 0,
    "start_time": "2022-04-21T11:48:31.944Z"
   },
   {
    "duration": 3,
    "start_time": "2022-04-21T11:53:33.653Z"
   },
   {
    "duration": 3,
    "start_time": "2022-04-21T12:10:41.612Z"
   },
   {
    "duration": 3,
    "start_time": "2022-04-21T12:21:22.860Z"
   },
   {
    "duration": 3,
    "start_time": "2022-04-21T12:21:43.664Z"
   },
   {
    "duration": 231,
    "start_time": "2022-04-21T12:34:57.025Z"
   },
   {
    "duration": 3,
    "start_time": "2022-04-21T12:38:27.225Z"
   },
   {
    "duration": 3,
    "start_time": "2022-04-21T12:39:02.507Z"
   },
   {
    "duration": 3,
    "start_time": "2022-04-21T12:39:24.466Z"
   },
   {
    "duration": 3,
    "start_time": "2022-04-21T12:39:26.409Z"
   },
   {
    "duration": 3,
    "start_time": "2022-04-21T12:59:43.539Z"
   },
   {
    "duration": 14,
    "start_time": "2022-04-21T13:02:13.199Z"
   },
   {
    "duration": 6,
    "start_time": "2022-04-21T13:05:08.026Z"
   },
   {
    "duration": 4,
    "start_time": "2022-04-21T13:08:51.918Z"
   },
   {
    "duration": 4,
    "start_time": "2022-04-21T13:09:31.261Z"
   },
   {
    "duration": 3,
    "start_time": "2022-04-21T13:09:53.621Z"
   },
   {
    "duration": 4,
    "start_time": "2022-04-21T13:10:22.443Z"
   },
   {
    "duration": 4,
    "start_time": "2022-04-21T13:21:22.958Z"
   },
   {
    "duration": 4,
    "start_time": "2022-04-21T13:24:54.620Z"
   },
   {
    "duration": 2,
    "start_time": "2022-04-21T13:25:53.995Z"
   },
   {
    "duration": 3,
    "start_time": "2022-04-21T13:30:20.939Z"
   },
   {
    "duration": 3,
    "start_time": "2022-04-21T13:31:21.058Z"
   },
   {
    "duration": 3,
    "start_time": "2022-04-21T13:32:08.145Z"
   },
   {
    "duration": 3622,
    "start_time": "2022-04-21T18:07:19.190Z"
   },
   {
    "duration": 4,
    "start_time": "2022-04-21T18:07:22.814Z"
   },
   {
    "duration": 411,
    "start_time": "2022-04-21T18:07:22.819Z"
   },
   {
    "duration": 561,
    "start_time": "2022-04-21T18:07:23.232Z"
   },
   {
    "duration": 5,
    "start_time": "2022-04-21T18:07:23.795Z"
   },
   {
    "duration": 317,
    "start_time": "2022-04-21T18:07:23.802Z"
   },
   {
    "duration": 14,
    "start_time": "2022-04-21T18:07:24.121Z"
   },
   {
    "duration": 22,
    "start_time": "2022-04-21T18:07:24.136Z"
   },
   {
    "duration": 18,
    "start_time": "2022-04-21T18:07:24.165Z"
   },
   {
    "duration": 507,
    "start_time": "2022-04-21T18:07:24.186Z"
   },
   {
    "duration": 21,
    "start_time": "2022-04-21T18:07:24.695Z"
   },
   {
    "duration": 20,
    "start_time": "2022-04-21T18:07:24.717Z"
   },
   {
    "duration": 25,
    "start_time": "2022-04-21T18:07:24.738Z"
   },
   {
    "duration": 20,
    "start_time": "2022-04-21T18:07:24.765Z"
   },
   {
    "duration": 9,
    "start_time": "2022-04-21T18:07:24.787Z"
   },
   {
    "duration": 18,
    "start_time": "2022-04-21T18:07:24.798Z"
   },
   {
    "duration": 9,
    "start_time": "2022-04-21T18:07:24.817Z"
   },
   {
    "duration": 8,
    "start_time": "2022-04-21T18:07:24.828Z"
   },
   {
    "duration": 34,
    "start_time": "2022-04-21T18:07:24.837Z"
   },
   {
    "duration": 23,
    "start_time": "2022-04-21T18:07:24.873Z"
   },
   {
    "duration": 28,
    "start_time": "2022-04-21T18:07:24.898Z"
   },
   {
    "duration": 165,
    "start_time": "2022-04-21T18:07:24.928Z"
   },
   {
    "duration": 127,
    "start_time": "2022-04-21T18:07:25.095Z"
   },
   {
    "duration": 117,
    "start_time": "2022-04-21T18:07:25.223Z"
   },
   {
    "duration": 175,
    "start_time": "2022-04-21T18:07:25.342Z"
   },
   {
    "duration": 120,
    "start_time": "2022-04-21T18:07:25.519Z"
   },
   {
    "duration": 130,
    "start_time": "2022-04-21T18:07:25.640Z"
   },
   {
    "duration": 143,
    "start_time": "2022-04-21T18:07:25.777Z"
   },
   {
    "duration": 148,
    "start_time": "2022-04-21T18:07:25.921Z"
   },
   {
    "duration": 122,
    "start_time": "2022-04-21T18:07:26.072Z"
   },
   {
    "duration": 814,
    "start_time": "2022-04-21T18:07:26.195Z"
   },
   {
    "duration": 16,
    "start_time": "2022-04-21T18:07:27.010Z"
   },
   {
    "duration": 34,
    "start_time": "2022-04-21T18:07:27.027Z"
   },
   {
    "duration": 24,
    "start_time": "2022-04-21T18:07:27.064Z"
   },
   {
    "duration": 9,
    "start_time": "2022-04-21T18:07:27.089Z"
   },
   {
    "duration": 10,
    "start_time": "2022-04-21T18:07:27.099Z"
   },
   {
    "duration": 16,
    "start_time": "2022-04-21T18:07:27.110Z"
   },
   {
    "duration": 41,
    "start_time": "2022-04-21T18:07:27.127Z"
   },
   {
    "duration": 20,
    "start_time": "2022-04-21T18:07:27.170Z"
   },
   {
    "duration": 17,
    "start_time": "2022-04-21T18:07:27.191Z"
   },
   {
    "duration": 8,
    "start_time": "2022-04-21T18:07:27.209Z"
   },
   {
    "duration": 11,
    "start_time": "2022-04-21T18:07:27.218Z"
   },
   {
    "duration": 27,
    "start_time": "2022-04-21T18:07:27.231Z"
   },
   {
    "duration": 38,
    "start_time": "2022-04-21T18:07:27.262Z"
   },
   {
    "duration": 273,
    "start_time": "2022-04-21T18:07:27.302Z"
   },
   {
    "duration": 9,
    "start_time": "2022-04-21T18:07:27.577Z"
   },
   {
    "duration": 197,
    "start_time": "2022-04-21T18:07:27.588Z"
   },
   {
    "duration": 10,
    "start_time": "2022-04-21T18:07:27.787Z"
   },
   {
    "duration": 7,
    "start_time": "2022-04-21T18:07:27.798Z"
   },
   {
    "duration": 4,
    "start_time": "2022-04-21T18:07:27.807Z"
   },
   {
    "duration": 7,
    "start_time": "2022-04-21T18:07:27.812Z"
   },
   {
    "duration": 7,
    "start_time": "2022-04-21T18:07:27.820Z"
   },
   {
    "duration": 4,
    "start_time": "2022-04-21T18:07:27.829Z"
   },
   {
    "duration": 10,
    "start_time": "2022-04-21T18:07:27.834Z"
   },
   {
    "duration": 7,
    "start_time": "2022-04-21T18:07:27.845Z"
   },
   {
    "duration": 36,
    "start_time": "2022-04-21T18:07:27.853Z"
   },
   {
    "duration": 4,
    "start_time": "2022-04-21T18:07:27.890Z"
   },
   {
    "duration": 6,
    "start_time": "2022-04-21T18:07:27.895Z"
   },
   {
    "duration": 6,
    "start_time": "2022-04-21T18:07:27.902Z"
   },
   {
    "duration": 7,
    "start_time": "2022-04-21T18:07:27.909Z"
   },
   {
    "duration": 5,
    "start_time": "2022-04-21T18:07:27.917Z"
   },
   {
    "duration": 7,
    "start_time": "2022-04-21T18:07:27.923Z"
   },
   {
    "duration": 3,
    "start_time": "2022-04-21T18:08:08.080Z"
   },
   {
    "duration": 3,
    "start_time": "2022-04-21T18:08:09.517Z"
   },
   {
    "duration": 3,
    "start_time": "2022-04-21T18:08:10.134Z"
   },
   {
    "duration": 153,
    "start_time": "2022-04-21T18:09:02.510Z"
   },
   {
    "duration": 161,
    "start_time": "2022-04-21T18:09:40.507Z"
   },
   {
    "duration": 7,
    "start_time": "2022-04-21T18:13:48.273Z"
   },
   {
    "duration": 4,
    "start_time": "2022-04-21T18:19:51.955Z"
   },
   {
    "duration": 99,
    "start_time": "2022-04-21T18:21:16.838Z"
   },
   {
    "duration": 13,
    "start_time": "2022-04-21T18:22:10.715Z"
   },
   {
    "duration": 9,
    "start_time": "2022-04-21T18:28:27.990Z"
   },
   {
    "duration": 13,
    "start_time": "2022-04-21T18:28:38.896Z"
   },
   {
    "duration": 3,
    "start_time": "2022-04-21T18:29:54.819Z"
   },
   {
    "duration": 8,
    "start_time": "2022-04-21T18:30:12.835Z"
   },
   {
    "duration": 8,
    "start_time": "2022-04-21T18:30:22.954Z"
   },
   {
    "duration": 8,
    "start_time": "2022-04-21T18:30:27.148Z"
   },
   {
    "duration": 14,
    "start_time": "2022-04-21T18:30:30.450Z"
   },
   {
    "duration": 3,
    "start_time": "2022-04-21T18:30:41.772Z"
   },
   {
    "duration": 4,
    "start_time": "2022-04-21T18:31:19.976Z"
   },
   {
    "duration": 7,
    "start_time": "2022-04-21T18:33:42.656Z"
   },
   {
    "duration": 3,
    "start_time": "2022-04-21T18:59:42.191Z"
   },
   {
    "duration": 12,
    "start_time": "2022-04-21T19:10:42.624Z"
   },
   {
    "duration": 11,
    "start_time": "2022-04-21T19:13:00.599Z"
   },
   {
    "duration": 13,
    "start_time": "2022-04-21T19:13:10.523Z"
   },
   {
    "duration": 12,
    "start_time": "2022-04-21T19:14:15.296Z"
   },
   {
    "duration": 11,
    "start_time": "2022-04-21T19:14:24.007Z"
   },
   {
    "duration": 607,
    "start_time": "2022-04-21T19:14:35.014Z"
   },
   {
    "duration": 4,
    "start_time": "2022-04-21T19:14:57.087Z"
   },
   {
    "duration": 579,
    "start_time": "2022-04-21T19:15:45.823Z"
   },
   {
    "duration": 598,
    "start_time": "2022-04-21T19:16:36.057Z"
   },
   {
    "duration": 3,
    "start_time": "2022-04-21T19:16:49.827Z"
   },
   {
    "duration": 596,
    "start_time": "2022-04-21T19:19:34.312Z"
   },
   {
    "duration": 594,
    "start_time": "2022-04-21T19:20:13.794Z"
   },
   {
    "duration": 626,
    "start_time": "2022-04-21T19:21:36.482Z"
   },
   {
    "duration": 3,
    "start_time": "2022-04-21T19:22:15.073Z"
   },
   {
    "duration": 630,
    "start_time": "2022-04-21T19:22:15.770Z"
   },
   {
    "duration": 581,
    "start_time": "2022-04-21T19:22:21.923Z"
   },
   {
    "duration": 577,
    "start_time": "2022-04-21T19:22:26.319Z"
   },
   {
    "duration": 2149,
    "start_time": "2022-04-21T19:22:34.779Z"
   },
   {
    "duration": 2,
    "start_time": "2022-04-21T19:22:36.931Z"
   },
   {
    "duration": 352,
    "start_time": "2022-04-21T19:22:36.935Z"
   },
   {
    "duration": 296,
    "start_time": "2022-04-21T19:22:37.289Z"
   },
   {
    "duration": 6,
    "start_time": "2022-04-21T19:22:37.587Z"
   },
   {
    "duration": 337,
    "start_time": "2022-04-21T19:22:37.594Z"
   },
   {
    "duration": 23,
    "start_time": "2022-04-21T19:22:37.932Z"
   },
   {
    "duration": 14,
    "start_time": "2022-04-21T19:22:37.957Z"
   },
   {
    "duration": 15,
    "start_time": "2022-04-21T19:22:37.972Z"
   },
   {
    "duration": 26,
    "start_time": "2022-04-21T19:22:37.989Z"
   },
   {
    "duration": 45,
    "start_time": "2022-04-21T19:22:38.016Z"
   },
   {
    "duration": 19,
    "start_time": "2022-04-21T19:22:38.063Z"
   },
   {
    "duration": 5,
    "start_time": "2022-04-21T19:22:38.083Z"
   },
   {
    "duration": 8,
    "start_time": "2022-04-21T19:22:38.090Z"
   },
   {
    "duration": 11,
    "start_time": "2022-04-21T19:22:38.099Z"
   },
   {
    "duration": 32,
    "start_time": "2022-04-21T19:22:38.111Z"
   },
   {
    "duration": 8,
    "start_time": "2022-04-21T19:22:38.155Z"
   },
   {
    "duration": 17,
    "start_time": "2022-04-21T19:22:38.165Z"
   },
   {
    "duration": 45,
    "start_time": "2022-04-21T19:22:38.183Z"
   },
   {
    "duration": 39,
    "start_time": "2022-04-21T19:22:38.230Z"
   },
   {
    "duration": 31,
    "start_time": "2022-04-21T19:22:38.270Z"
   },
   {
    "duration": 148,
    "start_time": "2022-04-21T19:22:38.303Z"
   },
   {
    "duration": 117,
    "start_time": "2022-04-21T19:22:38.455Z"
   },
   {
    "duration": 118,
    "start_time": "2022-04-21T19:22:38.573Z"
   },
   {
    "duration": 114,
    "start_time": "2022-04-21T19:22:38.692Z"
   },
   {
    "duration": 118,
    "start_time": "2022-04-21T19:22:38.808Z"
   },
   {
    "duration": 119,
    "start_time": "2022-04-21T19:22:38.928Z"
   },
   {
    "duration": 238,
    "start_time": "2022-04-21T19:22:39.057Z"
   },
   {
    "duration": 132,
    "start_time": "2022-04-21T19:22:39.297Z"
   },
   {
    "duration": 136,
    "start_time": "2022-04-21T19:22:39.430Z"
   },
   {
    "duration": 3,
    "start_time": "2022-04-21T19:22:39.568Z"
   },
   {
    "duration": 18,
    "start_time": "2022-04-21T19:22:39.573Z"
   },
   {
    "duration": 37,
    "start_time": "2022-04-21T19:22:39.594Z"
   },
   {
    "duration": 27,
    "start_time": "2022-04-21T19:22:39.633Z"
   },
   {
    "duration": 8,
    "start_time": "2022-04-21T19:22:39.661Z"
   },
   {
    "duration": 19,
    "start_time": "2022-04-21T19:22:39.671Z"
   },
   {
    "duration": 21,
    "start_time": "2022-04-21T19:22:39.692Z"
   },
   {
    "duration": 9,
    "start_time": "2022-04-21T19:22:39.715Z"
   },
   {
    "duration": 29,
    "start_time": "2022-04-21T19:22:39.726Z"
   },
   {
    "duration": 17,
    "start_time": "2022-04-21T19:22:39.757Z"
   },
   {
    "duration": 8,
    "start_time": "2022-04-21T19:22:39.775Z"
   },
   {
    "duration": 11,
    "start_time": "2022-04-21T19:22:39.785Z"
   },
   {
    "duration": 15,
    "start_time": "2022-04-21T19:22:39.798Z"
   },
   {
    "duration": 10,
    "start_time": "2022-04-21T19:22:39.814Z"
   },
   {
    "duration": 248,
    "start_time": "2022-04-21T19:22:39.825Z"
   },
   {
    "duration": 81,
    "start_time": "2022-04-21T19:22:40.075Z"
   },
   {
    "duration": 113,
    "start_time": "2022-04-21T19:22:40.160Z"
   },
   {
    "duration": 28,
    "start_time": "2022-04-21T19:22:40.275Z"
   },
   {
    "duration": 28,
    "start_time": "2022-04-21T19:22:40.304Z"
   },
   {
    "duration": 17,
    "start_time": "2022-04-21T19:22:40.333Z"
   },
   {
    "duration": 24,
    "start_time": "2022-04-21T19:22:40.352Z"
   },
   {
    "duration": 33,
    "start_time": "2022-04-21T19:22:40.378Z"
   },
   {
    "duration": 34,
    "start_time": "2022-04-21T19:22:40.413Z"
   },
   {
    "duration": 46,
    "start_time": "2022-04-21T19:22:40.449Z"
   },
   {
    "duration": 30,
    "start_time": "2022-04-21T19:22:40.497Z"
   },
   {
    "duration": 53,
    "start_time": "2022-04-21T19:22:40.529Z"
   },
   {
    "duration": 15,
    "start_time": "2022-04-21T19:22:40.584Z"
   },
   {
    "duration": 22,
    "start_time": "2022-04-21T19:22:40.601Z"
   },
   {
    "duration": 27,
    "start_time": "2022-04-21T19:22:40.624Z"
   },
   {
    "duration": 15,
    "start_time": "2022-04-21T19:22:40.653Z"
   },
   {
    "duration": 23,
    "start_time": "2022-04-21T19:22:40.669Z"
   },
   {
    "duration": 18,
    "start_time": "2022-04-21T19:22:40.693Z"
   },
   {
    "duration": 18,
    "start_time": "2022-04-21T19:22:40.712Z"
   },
   {
    "duration": 665,
    "start_time": "2022-04-21T19:22:40.731Z"
   },
   {
    "duration": 623,
    "start_time": "2022-04-21T19:22:41.398Z"
   },
   {
    "duration": 636,
    "start_time": "2022-04-21T19:22:42.022Z"
   },
   {
    "duration": 13,
    "start_time": "2022-04-21T20:01:18.130Z"
   },
   {
    "duration": 12,
    "start_time": "2022-04-21T20:08:05.206Z"
   },
   {
    "duration": 565,
    "start_time": "2022-04-21T20:19:37.862Z"
   },
   {
    "duration": 571,
    "start_time": "2022-04-21T20:22:59.458Z"
   },
   {
    "duration": 2255,
    "start_time": "2022-04-21T20:23:42.614Z"
   },
   {
    "duration": 3,
    "start_time": "2022-04-21T20:23:44.872Z"
   },
   {
    "duration": 385,
    "start_time": "2022-04-21T20:23:44.877Z"
   },
   {
    "duration": 342,
    "start_time": "2022-04-21T20:23:45.265Z"
   },
   {
    "duration": 6,
    "start_time": "2022-04-21T20:23:45.608Z"
   },
   {
    "duration": 337,
    "start_time": "2022-04-21T20:23:45.616Z"
   },
   {
    "duration": 15,
    "start_time": "2022-04-21T20:23:45.954Z"
   },
   {
    "duration": 26,
    "start_time": "2022-04-21T20:23:45.971Z"
   },
   {
    "duration": 21,
    "start_time": "2022-04-21T20:23:45.999Z"
   },
   {
    "duration": 23,
    "start_time": "2022-04-21T20:23:46.023Z"
   },
   {
    "duration": 19,
    "start_time": "2022-04-21T20:23:46.054Z"
   },
   {
    "duration": 33,
    "start_time": "2022-04-21T20:23:46.075Z"
   },
   {
    "duration": 3,
    "start_time": "2022-04-21T20:23:46.110Z"
   },
   {
    "duration": 14,
    "start_time": "2022-04-21T20:23:46.115Z"
   },
   {
    "duration": 19,
    "start_time": "2022-04-21T20:23:46.131Z"
   },
   {
    "duration": 34,
    "start_time": "2022-04-21T20:23:46.152Z"
   },
   {
    "duration": 17,
    "start_time": "2022-04-21T20:23:46.188Z"
   },
   {
    "duration": 27,
    "start_time": "2022-04-21T20:23:46.207Z"
   },
   {
    "duration": 37,
    "start_time": "2022-04-21T20:23:46.236Z"
   },
   {
    "duration": 22,
    "start_time": "2022-04-21T20:23:46.275Z"
   },
   {
    "duration": 35,
    "start_time": "2022-04-21T20:23:46.298Z"
   },
   {
    "duration": 147,
    "start_time": "2022-04-21T20:23:46.334Z"
   },
   {
    "duration": 113,
    "start_time": "2022-04-21T20:23:46.482Z"
   },
   {
    "duration": 131,
    "start_time": "2022-04-21T20:23:46.596Z"
   },
   {
    "duration": 115,
    "start_time": "2022-04-21T20:23:46.730Z"
   },
   {
    "duration": 118,
    "start_time": "2022-04-21T20:23:46.847Z"
   },
   {
    "duration": 122,
    "start_time": "2022-04-21T20:23:46.968Z"
   },
   {
    "duration": 128,
    "start_time": "2022-04-21T20:23:47.095Z"
   },
   {
    "duration": 217,
    "start_time": "2022-04-21T20:23:47.225Z"
   },
   {
    "duration": 120,
    "start_time": "2022-04-21T20:23:47.443Z"
   },
   {
    "duration": 3,
    "start_time": "2022-04-21T20:23:47.564Z"
   },
   {
    "duration": 24,
    "start_time": "2022-04-21T20:23:47.568Z"
   },
   {
    "duration": 44,
    "start_time": "2022-04-21T20:23:47.594Z"
   },
   {
    "duration": 21,
    "start_time": "2022-04-21T20:23:47.640Z"
   },
   {
    "duration": 9,
    "start_time": "2022-04-21T20:23:47.663Z"
   },
   {
    "duration": 21,
    "start_time": "2022-04-21T20:23:47.674Z"
   },
   {
    "duration": 37,
    "start_time": "2022-04-21T20:23:47.696Z"
   },
   {
    "duration": 39,
    "start_time": "2022-04-21T20:23:47.735Z"
   },
   {
    "duration": 27,
    "start_time": "2022-04-21T20:23:47.775Z"
   },
   {
    "duration": 33,
    "start_time": "2022-04-21T20:23:47.803Z"
   },
   {
    "duration": 11,
    "start_time": "2022-04-21T20:23:47.838Z"
   },
   {
    "duration": 23,
    "start_time": "2022-04-21T20:23:47.850Z"
   },
   {
    "duration": 32,
    "start_time": "2022-04-21T20:23:47.875Z"
   },
   {
    "duration": 30,
    "start_time": "2022-04-21T20:23:47.909Z"
   },
   {
    "duration": 315,
    "start_time": "2022-04-21T20:23:47.941Z"
   },
   {
    "duration": 4,
    "start_time": "2022-04-21T20:23:48.258Z"
   },
   {
    "duration": 110,
    "start_time": "2022-04-21T20:23:48.264Z"
   },
   {
    "duration": 26,
    "start_time": "2022-04-21T20:23:48.375Z"
   },
   {
    "duration": 17,
    "start_time": "2022-04-21T20:23:48.403Z"
   },
   {
    "duration": 20,
    "start_time": "2022-04-21T20:23:48.422Z"
   },
   {
    "duration": 25,
    "start_time": "2022-04-21T20:23:48.444Z"
   },
   {
    "duration": 20,
    "start_time": "2022-04-21T20:23:48.471Z"
   },
   {
    "duration": 23,
    "start_time": "2022-04-21T20:23:48.493Z"
   },
   {
    "duration": 26,
    "start_time": "2022-04-21T20:23:48.518Z"
   },
   {
    "duration": 19,
    "start_time": "2022-04-21T20:23:48.545Z"
   },
   {
    "duration": 16,
    "start_time": "2022-04-21T20:23:48.566Z"
   },
   {
    "duration": 4,
    "start_time": "2022-04-21T20:23:48.583Z"
   },
   {
    "duration": 8,
    "start_time": "2022-04-21T20:23:48.588Z"
   },
   {
    "duration": 8,
    "start_time": "2022-04-21T20:23:48.597Z"
   },
   {
    "duration": 10,
    "start_time": "2022-04-21T20:23:48.606Z"
   },
   {
    "duration": 5,
    "start_time": "2022-04-21T20:23:48.618Z"
   },
   {
    "duration": 7,
    "start_time": "2022-04-21T20:23:48.624Z"
   },
   {
    "duration": 8,
    "start_time": "2022-04-21T20:23:48.632Z"
   },
   {
    "duration": 613,
    "start_time": "2022-04-21T20:23:48.642Z"
   },
   {
    "duration": 605,
    "start_time": "2022-04-21T20:23:49.256Z"
   },
   {
    "duration": 610,
    "start_time": "2022-04-21T20:23:49.862Z"
   },
   {
    "duration": 556,
    "start_time": "2022-04-21T20:23:50.473Z"
   },
   {
    "duration": 737,
    "start_time": "2022-04-21T20:28:57.550Z"
   },
   {
    "duration": 580,
    "start_time": "2022-04-21T20:29:26.123Z"
   },
   {
    "duration": 554,
    "start_time": "2022-04-21T20:30:16.977Z"
   },
   {
    "duration": 545,
    "start_time": "2022-04-21T20:31:03.268Z"
   },
   {
    "duration": 3,
    "start_time": "2022-04-21T20:31:42.666Z"
   },
   {
    "duration": 598,
    "start_time": "2022-04-21T20:31:44.240Z"
   },
   {
    "duration": 611,
    "start_time": "2022-04-21T20:32:08.933Z"
   },
   {
    "duration": 599,
    "start_time": "2022-04-21T20:32:24.521Z"
   },
   {
    "duration": 605,
    "start_time": "2022-04-21T20:32:45.156Z"
   },
   {
    "duration": 613,
    "start_time": "2022-04-21T20:32:50.030Z"
   },
   {
    "duration": 598,
    "start_time": "2022-04-21T20:33:12.850Z"
   },
   {
    "duration": 594,
    "start_time": "2022-04-21T20:33:23.928Z"
   },
   {
    "duration": 563,
    "start_time": "2022-04-21T20:33:30.123Z"
   },
   {
    "duration": 524,
    "start_time": "2022-04-21T20:34:20.722Z"
   },
   {
    "duration": 750,
    "start_time": "2022-04-21T20:35:02.561Z"
   },
   {
    "duration": 595,
    "start_time": "2022-04-21T20:35:50.830Z"
   },
   {
    "duration": 585,
    "start_time": "2022-04-21T20:36:16.560Z"
   },
   {
    "duration": 596,
    "start_time": "2022-04-21T20:36:33.742Z"
   },
   {
    "duration": 622,
    "start_time": "2022-04-21T20:38:08.145Z"
   },
   {
    "duration": 685,
    "start_time": "2022-04-21T20:39:52.239Z"
   },
   {
    "duration": 3,
    "start_time": "2022-04-21T21:22:51.656Z"
   },
   {
    "duration": 2247,
    "start_time": "2022-04-21T21:23:04.300Z"
   },
   {
    "duration": 3,
    "start_time": "2022-04-21T21:23:06.550Z"
   },
   {
    "duration": 347,
    "start_time": "2022-04-21T21:23:06.554Z"
   },
   {
    "duration": 278,
    "start_time": "2022-04-21T21:23:06.903Z"
   },
   {
    "duration": 6,
    "start_time": "2022-04-21T21:23:07.183Z"
   },
   {
    "duration": 467,
    "start_time": "2022-04-21T21:23:07.190Z"
   },
   {
    "duration": 16,
    "start_time": "2022-04-21T21:23:07.659Z"
   },
   {
    "duration": 13,
    "start_time": "2022-04-21T21:23:07.676Z"
   },
   {
    "duration": 12,
    "start_time": "2022-04-21T21:23:07.691Z"
   },
   {
    "duration": 21,
    "start_time": "2022-04-21T21:23:07.706Z"
   },
   {
    "duration": 20,
    "start_time": "2022-04-21T21:23:07.755Z"
   },
   {
    "duration": 19,
    "start_time": "2022-04-21T21:23:07.776Z"
   },
   {
    "duration": 3,
    "start_time": "2022-04-21T21:23:07.796Z"
   },
   {
    "duration": 6,
    "start_time": "2022-04-21T21:23:07.801Z"
   },
   {
    "duration": 6,
    "start_time": "2022-04-21T21:23:07.808Z"
   },
   {
    "duration": 46,
    "start_time": "2022-04-21T21:23:07.815Z"
   },
   {
    "duration": 12,
    "start_time": "2022-04-21T21:23:07.862Z"
   },
   {
    "duration": 9,
    "start_time": "2022-04-21T21:23:07.876Z"
   },
   {
    "duration": 35,
    "start_time": "2022-04-21T21:23:07.886Z"
   },
   {
    "duration": 40,
    "start_time": "2022-04-21T21:23:07.922Z"
   },
   {
    "duration": 30,
    "start_time": "2022-04-21T21:23:07.964Z"
   },
   {
    "duration": 145,
    "start_time": "2022-04-21T21:23:07.996Z"
   },
   {
    "duration": 113,
    "start_time": "2022-04-21T21:23:08.143Z"
   },
   {
    "duration": 113,
    "start_time": "2022-04-21T21:23:08.258Z"
   },
   {
    "duration": 112,
    "start_time": "2022-04-21T21:23:08.373Z"
   },
   {
    "duration": 119,
    "start_time": "2022-04-21T21:23:08.487Z"
   },
   {
    "duration": 120,
    "start_time": "2022-04-21T21:23:08.608Z"
   },
   {
    "duration": 132,
    "start_time": "2022-04-21T21:23:08.732Z"
   },
   {
    "duration": 112,
    "start_time": "2022-04-21T21:23:08.865Z"
   },
   {
    "duration": 239,
    "start_time": "2022-04-21T21:23:08.978Z"
   },
   {
    "duration": 3,
    "start_time": "2022-04-21T21:23:09.218Z"
   },
   {
    "duration": 27,
    "start_time": "2022-04-21T21:23:09.222Z"
   },
   {
    "duration": 31,
    "start_time": "2022-04-21T21:23:09.251Z"
   },
   {
    "duration": 22,
    "start_time": "2022-04-21T21:23:09.284Z"
   },
   {
    "duration": 9,
    "start_time": "2022-04-21T21:23:09.308Z"
   },
   {
    "duration": 14,
    "start_time": "2022-04-21T21:23:09.319Z"
   },
   {
    "duration": 34,
    "start_time": "2022-04-21T21:23:09.335Z"
   },
   {
    "duration": 9,
    "start_time": "2022-04-21T21:23:09.371Z"
   },
   {
    "duration": 26,
    "start_time": "2022-04-21T21:23:09.382Z"
   },
   {
    "duration": 86,
    "start_time": "2022-04-21T21:23:09.410Z"
   },
   {
    "duration": 21,
    "start_time": "2022-04-21T21:23:09.497Z"
   },
   {
    "duration": 26,
    "start_time": "2022-04-21T21:23:09.519Z"
   },
   {
    "duration": 35,
    "start_time": "2022-04-21T21:23:09.547Z"
   },
   {
    "duration": 16,
    "start_time": "2022-04-21T21:23:09.584Z"
   },
   {
    "duration": 453,
    "start_time": "2022-04-21T21:23:09.601Z"
   },
   {
    "duration": 4,
    "start_time": "2022-04-21T21:23:10.056Z"
   },
   {
    "duration": 112,
    "start_time": "2022-04-21T21:23:10.062Z"
   },
   {
    "duration": 7,
    "start_time": "2022-04-21T21:23:10.176Z"
   },
   {
    "duration": 35,
    "start_time": "2022-04-21T21:23:10.185Z"
   },
   {
    "duration": 22,
    "start_time": "2022-04-21T21:23:10.222Z"
   },
   {
    "duration": 17,
    "start_time": "2022-04-21T21:23:10.247Z"
   },
   {
    "duration": 13,
    "start_time": "2022-04-21T21:23:10.266Z"
   },
   {
    "duration": 20,
    "start_time": "2022-04-21T21:23:10.281Z"
   },
   {
    "duration": 24,
    "start_time": "2022-04-21T21:23:10.303Z"
   },
   {
    "duration": 22,
    "start_time": "2022-04-21T21:23:10.329Z"
   },
   {
    "duration": 26,
    "start_time": "2022-04-21T21:23:10.352Z"
   },
   {
    "duration": 16,
    "start_time": "2022-04-21T21:23:10.380Z"
   },
   {
    "duration": 35,
    "start_time": "2022-04-21T21:23:10.397Z"
   },
   {
    "duration": 225,
    "start_time": "2022-04-21T21:23:10.433Z"
   },
   {
    "duration": 153,
    "start_time": "2022-04-21T21:23:10.660Z"
   },
   {
    "duration": 5,
    "start_time": "2022-04-21T21:23:10.815Z"
   },
   {
    "duration": 4,
    "start_time": "2022-04-21T21:23:10.822Z"
   },
   {
    "duration": 4,
    "start_time": "2022-04-21T21:23:10.828Z"
   },
   {
    "duration": 600,
    "start_time": "2022-04-21T21:23:10.834Z"
   },
   {
    "duration": 595,
    "start_time": "2022-04-21T21:23:11.436Z"
   },
   {
    "duration": 604,
    "start_time": "2022-04-21T21:23:12.032Z"
   },
   {
    "duration": 619,
    "start_time": "2022-04-21T21:23:12.638Z"
   },
   {
    "duration": 628,
    "start_time": "2022-04-21T21:23:13.259Z"
   },
   {
    "duration": 591,
    "start_time": "2022-04-21T21:23:13.889Z"
   },
   {
    "duration": 4,
    "start_time": "2022-04-21T21:25:03.443Z"
   },
   {
    "duration": 10,
    "start_time": "2022-04-21T21:26:26.370Z"
   },
   {
    "duration": 3,
    "start_time": "2022-04-21T21:26:37.331Z"
   },
   {
    "duration": 3,
    "start_time": "2022-04-21T21:26:49.812Z"
   },
   {
    "duration": 3,
    "start_time": "2022-04-21T21:26:51.596Z"
   },
   {
    "duration": 4,
    "start_time": "2022-04-21T21:27:11.773Z"
   },
   {
    "duration": 626,
    "start_time": "2022-04-21T21:29:05.139Z"
   },
   {
    "duration": 597,
    "start_time": "2022-04-21T21:29:19.649Z"
   },
   {
    "duration": 582,
    "start_time": "2022-04-21T21:29:33.399Z"
   },
   {
    "duration": 595,
    "start_time": "2022-04-21T21:29:54.851Z"
   },
   {
    "duration": 602,
    "start_time": "2022-04-21T21:30:09.459Z"
   },
   {
    "duration": 587,
    "start_time": "2022-04-21T21:30:27.886Z"
   },
   {
    "duration": 3,
    "start_time": "2022-04-21T21:35:48.391Z"
   },
   {
    "duration": 3,
    "start_time": "2022-04-21T21:36:37.451Z"
   },
   {
    "duration": 3,
    "start_time": "2022-04-21T21:36:51.849Z"
   },
   {
    "duration": 9,
    "start_time": "2022-04-21T21:39:09.590Z"
   },
   {
    "duration": 141,
    "start_time": "2022-04-21T21:39:55.207Z"
   },
   {
    "duration": 144,
    "start_time": "2022-04-21T21:40:00.860Z"
   },
   {
    "duration": 138,
    "start_time": "2022-04-21T21:40:08.762Z"
   },
   {
    "duration": 160,
    "start_time": "2022-04-21T21:40:20.539Z"
   },
   {
    "duration": 9,
    "start_time": "2022-04-21T21:40:26.300Z"
   },
   {
    "duration": 10,
    "start_time": "2022-04-21T21:40:38.053Z"
   },
   {
    "duration": 6,
    "start_time": "2022-04-21T21:40:49.262Z"
   },
   {
    "duration": 6,
    "start_time": "2022-04-21T21:41:46.019Z"
   },
   {
    "duration": 4,
    "start_time": "2022-04-21T21:42:44.398Z"
   },
   {
    "duration": 5,
    "start_time": "2022-04-21T21:42:59.971Z"
   },
   {
    "duration": 9,
    "start_time": "2022-04-21T21:45:50.748Z"
   },
   {
    "duration": 3,
    "start_time": "2022-04-21T21:46:02.808Z"
   },
   {
    "duration": 6,
    "start_time": "2022-04-21T21:46:52.656Z"
   },
   {
    "duration": 3,
    "start_time": "2022-04-21T21:46:53.341Z"
   },
   {
    "duration": 6,
    "start_time": "2022-04-21T21:49:03.892Z"
   },
   {
    "duration": 7,
    "start_time": "2022-04-21T21:50:20.722Z"
   },
   {
    "duration": 2153,
    "start_time": "2022-04-21T21:52:29.368Z"
   },
   {
    "duration": 2,
    "start_time": "2022-04-21T21:52:31.524Z"
   },
   {
    "duration": 326,
    "start_time": "2022-04-21T21:52:31.528Z"
   },
   {
    "duration": 330,
    "start_time": "2022-04-21T21:52:31.856Z"
   },
   {
    "duration": 5,
    "start_time": "2022-04-21T21:52:32.188Z"
   },
   {
    "duration": 307,
    "start_time": "2022-04-21T21:52:32.195Z"
   },
   {
    "duration": 17,
    "start_time": "2022-04-21T21:52:32.504Z"
   },
   {
    "duration": 21,
    "start_time": "2022-04-21T21:52:32.523Z"
   },
   {
    "duration": 20,
    "start_time": "2022-04-21T21:52:32.546Z"
   },
   {
    "duration": 24,
    "start_time": "2022-04-21T21:52:32.570Z"
   },
   {
    "duration": 19,
    "start_time": "2022-04-21T21:52:32.596Z"
   },
   {
    "duration": 40,
    "start_time": "2022-04-21T21:52:32.617Z"
   },
   {
    "duration": 5,
    "start_time": "2022-04-21T21:52:32.658Z"
   },
   {
    "duration": 20,
    "start_time": "2022-04-21T21:52:32.664Z"
   },
   {
    "duration": 26,
    "start_time": "2022-04-21T21:52:32.686Z"
   },
   {
    "duration": 32,
    "start_time": "2022-04-21T21:52:32.714Z"
   },
   {
    "duration": 21,
    "start_time": "2022-04-21T21:52:32.748Z"
   },
   {
    "duration": 24,
    "start_time": "2022-04-21T21:52:32.770Z"
   },
   {
    "duration": 45,
    "start_time": "2022-04-21T21:52:32.796Z"
   },
   {
    "duration": 23,
    "start_time": "2022-04-21T21:52:32.843Z"
   },
   {
    "duration": 32,
    "start_time": "2022-04-21T21:52:32.868Z"
   },
   {
    "duration": 135,
    "start_time": "2022-04-21T21:52:32.902Z"
   },
   {
    "duration": 105,
    "start_time": "2022-04-21T21:52:33.039Z"
   },
   {
    "duration": 115,
    "start_time": "2022-04-21T21:52:33.146Z"
   },
   {
    "duration": 106,
    "start_time": "2022-04-21T21:52:33.263Z"
   },
   {
    "duration": 111,
    "start_time": "2022-04-21T21:52:33.371Z"
   },
   {
    "duration": 122,
    "start_time": "2022-04-21T21:52:33.484Z"
   },
   {
    "duration": 122,
    "start_time": "2022-04-21T21:52:33.611Z"
   },
   {
    "duration": 112,
    "start_time": "2022-04-21T21:52:33.735Z"
   },
   {
    "duration": 117,
    "start_time": "2022-04-21T21:52:33.850Z"
   },
   {
    "duration": 3,
    "start_time": "2022-04-21T21:52:33.969Z"
   },
   {
    "duration": 19,
    "start_time": "2022-04-21T21:52:33.974Z"
   },
   {
    "duration": 47,
    "start_time": "2022-04-21T21:52:33.994Z"
   },
   {
    "duration": 21,
    "start_time": "2022-04-21T21:52:34.043Z"
   },
   {
    "duration": 9,
    "start_time": "2022-04-21T21:52:34.066Z"
   },
   {
    "duration": 14,
    "start_time": "2022-04-21T21:52:34.077Z"
   },
   {
    "duration": 34,
    "start_time": "2022-04-21T21:52:34.093Z"
   },
   {
    "duration": 20,
    "start_time": "2022-04-21T21:52:34.130Z"
   },
   {
    "duration": 22,
    "start_time": "2022-04-21T21:52:34.152Z"
   },
   {
    "duration": 30,
    "start_time": "2022-04-21T21:52:34.176Z"
   },
   {
    "duration": 24,
    "start_time": "2022-04-21T21:52:34.208Z"
   },
   {
    "duration": 117,
    "start_time": "2022-04-21T21:52:34.234Z"
   },
   {
    "duration": 31,
    "start_time": "2022-04-21T21:52:34.354Z"
   },
   {
    "duration": 21,
    "start_time": "2022-04-21T21:52:34.387Z"
   },
   {
    "duration": 254,
    "start_time": "2022-04-21T21:52:34.409Z"
   },
   {
    "duration": 3,
    "start_time": "2022-04-21T21:52:34.756Z"
   },
   {
    "duration": 112,
    "start_time": "2022-04-21T21:52:34.761Z"
   },
   {
    "duration": 18,
    "start_time": "2022-04-21T21:52:34.875Z"
   },
   {
    "duration": 22,
    "start_time": "2022-04-21T21:52:34.894Z"
   },
   {
    "duration": 12,
    "start_time": "2022-04-21T21:52:34.918Z"
   },
   {
    "duration": 17,
    "start_time": "2022-04-21T21:52:34.931Z"
   },
   {
    "duration": 16,
    "start_time": "2022-04-21T21:52:34.950Z"
   },
   {
    "duration": 15,
    "start_time": "2022-04-21T21:52:34.968Z"
   },
   {
    "duration": 29,
    "start_time": "2022-04-21T21:52:34.984Z"
   },
   {
    "duration": 15,
    "start_time": "2022-04-21T21:52:35.015Z"
   },
   {
    "duration": 39,
    "start_time": "2022-04-21T21:52:35.032Z"
   },
   {
    "duration": 24,
    "start_time": "2022-04-21T21:52:35.073Z"
   },
   {
    "duration": 20,
    "start_time": "2022-04-21T21:52:35.099Z"
   },
   {
    "duration": 13,
    "start_time": "2022-04-21T21:52:35.121Z"
   },
   {
    "duration": 14,
    "start_time": "2022-04-21T21:52:35.136Z"
   },
   {
    "duration": 19,
    "start_time": "2022-04-21T21:52:35.152Z"
   },
   {
    "duration": 10,
    "start_time": "2022-04-21T21:52:35.173Z"
   },
   {
    "duration": 18,
    "start_time": "2022-04-21T21:52:35.185Z"
   },
   {
    "duration": 626,
    "start_time": "2022-04-21T21:52:35.205Z"
   },
   {
    "duration": 639,
    "start_time": "2022-04-21T21:52:35.832Z"
   },
   {
    "duration": 621,
    "start_time": "2022-04-21T21:52:36.473Z"
   },
   {
    "duration": 851,
    "start_time": "2022-04-21T21:52:37.096Z"
   },
   {
    "duration": 657,
    "start_time": "2022-04-21T21:52:37.954Z"
   },
   {
    "duration": 638,
    "start_time": "2022-04-21T21:52:38.613Z"
   },
   {
    "duration": 6,
    "start_time": "2022-04-21T21:52:39.255Z"
   },
   {
    "duration": 8,
    "start_time": "2022-04-21T21:52:39.262Z"
   },
   {
    "duration": 10,
    "start_time": "2022-04-21T21:52:39.271Z"
   },
   {
    "duration": 13,
    "start_time": "2022-04-21T21:52:39.283Z"
   },
   {
    "duration": 104729,
    "start_time": "2022-04-23T16:19:01.318Z"
   },
   {
    "duration": 0,
    "start_time": "2022-04-23T16:20:46.051Z"
   },
   {
    "duration": 0,
    "start_time": "2022-04-23T16:20:46.052Z"
   },
   {
    "duration": 0,
    "start_time": "2022-04-23T16:20:46.053Z"
   },
   {
    "duration": 0,
    "start_time": "2022-04-23T16:20:46.055Z"
   },
   {
    "duration": 0,
    "start_time": "2022-04-23T16:20:46.056Z"
   },
   {
    "duration": 0,
    "start_time": "2022-04-23T16:20:46.058Z"
   },
   {
    "duration": 0,
    "start_time": "2022-04-23T16:20:46.058Z"
   },
   {
    "duration": 0,
    "start_time": "2022-04-23T16:20:46.059Z"
   },
   {
    "duration": 0,
    "start_time": "2022-04-23T16:20:46.061Z"
   },
   {
    "duration": 0,
    "start_time": "2022-04-23T16:20:46.062Z"
   },
   {
    "duration": 0,
    "start_time": "2022-04-23T16:20:46.063Z"
   },
   {
    "duration": 0,
    "start_time": "2022-04-23T16:20:46.064Z"
   },
   {
    "duration": 0,
    "start_time": "2022-04-23T16:20:46.065Z"
   },
   {
    "duration": 0,
    "start_time": "2022-04-23T16:20:46.066Z"
   },
   {
    "duration": 0,
    "start_time": "2022-04-23T16:20:46.067Z"
   },
   {
    "duration": 0,
    "start_time": "2022-04-23T16:20:46.069Z"
   },
   {
    "duration": 0,
    "start_time": "2022-04-23T16:20:46.070Z"
   },
   {
    "duration": 0,
    "start_time": "2022-04-23T16:20:46.071Z"
   },
   {
    "duration": 0,
    "start_time": "2022-04-23T16:20:46.071Z"
   },
   {
    "duration": 0,
    "start_time": "2022-04-23T16:20:46.073Z"
   },
   {
    "duration": 0,
    "start_time": "2022-04-23T16:20:46.112Z"
   },
   {
    "duration": 0,
    "start_time": "2022-04-23T16:20:46.113Z"
   },
   {
    "duration": 0,
    "start_time": "2022-04-23T16:20:46.114Z"
   },
   {
    "duration": 0,
    "start_time": "2022-04-23T16:20:46.115Z"
   },
   {
    "duration": 0,
    "start_time": "2022-04-23T16:20:46.115Z"
   },
   {
    "duration": 0,
    "start_time": "2022-04-23T16:20:46.116Z"
   },
   {
    "duration": 0,
    "start_time": "2022-04-23T16:20:46.117Z"
   },
   {
    "duration": 0,
    "start_time": "2022-04-23T16:20:46.118Z"
   },
   {
    "duration": 0,
    "start_time": "2022-04-23T16:20:46.120Z"
   },
   {
    "duration": 0,
    "start_time": "2022-04-23T16:20:46.121Z"
   },
   {
    "duration": 0,
    "start_time": "2022-04-23T16:20:46.122Z"
   },
   {
    "duration": 0,
    "start_time": "2022-04-23T16:20:46.123Z"
   },
   {
    "duration": 0,
    "start_time": "2022-04-23T16:20:46.125Z"
   },
   {
    "duration": 0,
    "start_time": "2022-04-23T16:20:46.131Z"
   },
   {
    "duration": 0,
    "start_time": "2022-04-23T16:20:46.133Z"
   },
   {
    "duration": 0,
    "start_time": "2022-04-23T16:20:46.134Z"
   },
   {
    "duration": 0,
    "start_time": "2022-04-23T16:20:46.137Z"
   },
   {
    "duration": 0,
    "start_time": "2022-04-23T16:20:46.139Z"
   },
   {
    "duration": 0,
    "start_time": "2022-04-23T16:20:46.141Z"
   },
   {
    "duration": 0,
    "start_time": "2022-04-23T16:20:46.142Z"
   },
   {
    "duration": 0,
    "start_time": "2022-04-23T16:20:46.144Z"
   },
   {
    "duration": 0,
    "start_time": "2022-04-23T16:20:46.146Z"
   },
   {
    "duration": 0,
    "start_time": "2022-04-23T16:20:46.148Z"
   },
   {
    "duration": 0,
    "start_time": "2022-04-23T16:20:46.150Z"
   },
   {
    "duration": 0,
    "start_time": "2022-04-23T16:20:46.151Z"
   },
   {
    "duration": 0,
    "start_time": "2022-04-23T16:20:46.212Z"
   },
   {
    "duration": 0,
    "start_time": "2022-04-23T16:20:46.213Z"
   },
   {
    "duration": 0,
    "start_time": "2022-04-23T16:20:46.214Z"
   },
   {
    "duration": 0,
    "start_time": "2022-04-23T16:20:46.215Z"
   },
   {
    "duration": 0,
    "start_time": "2022-04-23T16:20:46.216Z"
   },
   {
    "duration": 0,
    "start_time": "2022-04-23T16:20:46.217Z"
   },
   {
    "duration": 0,
    "start_time": "2022-04-23T16:20:46.219Z"
   },
   {
    "duration": 0,
    "start_time": "2022-04-23T16:20:46.220Z"
   },
   {
    "duration": 0,
    "start_time": "2022-04-23T16:20:46.221Z"
   },
   {
    "duration": 0,
    "start_time": "2022-04-23T16:20:46.226Z"
   },
   {
    "duration": 0,
    "start_time": "2022-04-23T16:20:46.227Z"
   },
   {
    "duration": 0,
    "start_time": "2022-04-23T16:20:46.228Z"
   },
   {
    "duration": 0,
    "start_time": "2022-04-23T16:20:46.229Z"
   },
   {
    "duration": 0,
    "start_time": "2022-04-23T16:20:46.232Z"
   },
   {
    "duration": 0,
    "start_time": "2022-04-23T16:20:46.233Z"
   },
   {
    "duration": 0,
    "start_time": "2022-04-23T16:20:46.233Z"
   },
   {
    "duration": 0,
    "start_time": "2022-04-23T16:20:46.234Z"
   },
   {
    "duration": 0,
    "start_time": "2022-04-23T16:20:46.235Z"
   },
   {
    "duration": 0,
    "start_time": "2022-04-23T16:20:46.236Z"
   },
   {
    "duration": 0,
    "start_time": "2022-04-23T16:20:46.237Z"
   },
   {
    "duration": 0,
    "start_time": "2022-04-23T16:20:46.238Z"
   },
   {
    "duration": 0,
    "start_time": "2022-04-23T16:20:46.239Z"
   },
   {
    "duration": 0,
    "start_time": "2022-04-23T16:20:46.240Z"
   },
   {
    "duration": 0,
    "start_time": "2022-04-23T16:20:46.241Z"
   },
   {
    "duration": 0,
    "start_time": "2022-04-23T16:20:46.242Z"
   },
   {
    "duration": 0,
    "start_time": "2022-04-23T16:20:46.242Z"
   },
   {
    "duration": 0,
    "start_time": "2022-04-23T16:20:46.243Z"
   },
   {
    "duration": 54520,
    "start_time": "2022-04-23T16:22:56.477Z"
   },
   {
    "duration": 7,
    "start_time": "2022-04-23T16:27:04.511Z"
   },
   {
    "duration": 329,
    "start_time": "2022-04-23T16:27:06.239Z"
   },
   {
    "duration": 388,
    "start_time": "2022-04-23T16:27:10.496Z"
   },
   {
    "duration": 6,
    "start_time": "2022-04-23T16:27:12.043Z"
   },
   {
    "duration": 287,
    "start_time": "2022-04-23T16:27:17.286Z"
   },
   {
    "duration": 17,
    "start_time": "2022-04-23T16:27:18.425Z"
   },
   {
    "duration": 15,
    "start_time": "2022-04-23T16:27:22.667Z"
   },
   {
    "duration": 14,
    "start_time": "2022-04-23T16:27:23.736Z"
   },
   {
    "duration": 453,
    "start_time": "2022-04-23T16:27:29.280Z"
   },
   {
    "duration": 31,
    "start_time": "2022-04-23T16:27:31.500Z"
   },
   {
    "duration": 29,
    "start_time": "2022-04-23T16:27:32.401Z"
   },
   {
    "duration": 4,
    "start_time": "2022-04-23T16:27:35.085Z"
   },
   {
    "duration": 5,
    "start_time": "2022-04-23T16:27:36.059Z"
   },
   {
    "duration": 4,
    "start_time": "2022-04-23T16:27:37.703Z"
   },
   {
    "duration": 20,
    "start_time": "2022-04-23T16:27:41.840Z"
   },
   {
    "duration": 8,
    "start_time": "2022-04-23T16:27:44.282Z"
   },
   {
    "duration": 8,
    "start_time": "2022-04-23T16:27:45.295Z"
   },
   {
    "duration": 30,
    "start_time": "2022-04-23T16:27:46.973Z"
   },
   {
    "duration": 27,
    "start_time": "2022-04-23T16:27:49.285Z"
   },
   {
    "duration": 31,
    "start_time": "2022-04-23T16:27:51.344Z"
   },
   {
    "duration": 173,
    "start_time": "2022-04-23T16:27:54.313Z"
   },
   {
    "duration": 124,
    "start_time": "2022-04-23T16:28:01.880Z"
   },
   {
    "duration": 188,
    "start_time": "2022-04-23T16:28:03.472Z"
   },
   {
    "duration": 126,
    "start_time": "2022-04-23T16:28:06.643Z"
   },
   {
    "duration": 124,
    "start_time": "2022-04-23T16:28:07.450Z"
   },
   {
    "duration": 134,
    "start_time": "2022-04-23T16:28:10.853Z"
   },
   {
    "duration": 154,
    "start_time": "2022-04-23T16:28:16.166Z"
   },
   {
    "duration": 150,
    "start_time": "2022-04-23T16:28:20.593Z"
   },
   {
    "duration": 127,
    "start_time": "2022-04-23T16:28:21.651Z"
   },
   {
    "duration": 700,
    "start_time": "2022-04-23T16:28:28.764Z"
   },
   {
    "duration": 16,
    "start_time": "2022-04-23T16:28:30.253Z"
   },
   {
    "duration": 26,
    "start_time": "2022-04-23T16:28:32.037Z"
   },
   {
    "duration": 22,
    "start_time": "2022-04-23T16:29:10.747Z"
   },
   {
    "duration": 17,
    "start_time": "2022-04-23T16:29:15.604Z"
   },
   {
    "duration": 9,
    "start_time": "2022-04-23T16:29:18.691Z"
   },
   {
    "duration": 31,
    "start_time": "2022-04-23T16:30:32.892Z"
   },
   {
    "duration": 9,
    "start_time": "2022-04-23T16:30:36.761Z"
   },
   {
    "duration": 9,
    "start_time": "2022-04-23T16:30:38.099Z"
   },
   {
    "duration": 21,
    "start_time": "2022-04-23T16:31:31.427Z"
   },
   {
    "duration": 20,
    "start_time": "2022-04-23T16:32:13.657Z"
   },
   {
    "duration": 9,
    "start_time": "2022-04-23T16:32:21.959Z"
   },
   {
    "duration": 8,
    "start_time": "2022-04-23T16:32:25.833Z"
   },
   {
    "duration": 74,
    "start_time": "2022-04-23T16:32:54.453Z"
   },
   {
    "duration": 22,
    "start_time": "2022-04-23T16:33:33.034Z"
   },
   {
    "duration": 9,
    "start_time": "2022-04-23T16:33:38.481Z"
   },
   {
    "duration": 9,
    "start_time": "2022-04-23T16:33:39.192Z"
   },
   {
    "duration": 14,
    "start_time": "2022-04-23T16:34:55.838Z"
   },
   {
    "duration": 21,
    "start_time": "2022-04-23T16:34:58.978Z"
   },
   {
    "duration": 256,
    "start_time": "2022-04-23T16:36:02.767Z"
   },
   {
    "duration": 3,
    "start_time": "2022-04-23T16:36:19.951Z"
   },
   {
    "duration": 5,
    "start_time": "2022-04-23T16:36:20.690Z"
   },
   {
    "duration": 5,
    "start_time": "2022-04-23T16:36:23.572Z"
   },
   {
    "duration": 8,
    "start_time": "2022-04-23T16:36:30.318Z"
   },
   {
    "duration": 4,
    "start_time": "2022-04-23T16:36:37.719Z"
   },
   {
    "duration": 3,
    "start_time": "2022-04-23T16:36:39.561Z"
   },
   {
    "duration": 4,
    "start_time": "2022-04-23T16:36:44.305Z"
   },
   {
    "duration": 5,
    "start_time": "2022-04-23T16:37:22.418Z"
   },
   {
    "duration": 5,
    "start_time": "2022-04-23T16:38:18.823Z"
   },
   {
    "duration": 8,
    "start_time": "2022-04-23T16:39:15.811Z"
   },
   {
    "duration": 14,
    "start_time": "2022-04-23T16:40:16.147Z"
   },
   {
    "duration": 4,
    "start_time": "2022-04-23T16:40:30.964Z"
   },
   {
    "duration": 4,
    "start_time": "2022-04-23T16:40:33.616Z"
   },
   {
    "duration": 3,
    "start_time": "2022-04-23T16:40:35.179Z"
   },
   {
    "duration": 9,
    "start_time": "2022-04-23T16:40:55.185Z"
   },
   {
    "duration": 4,
    "start_time": "2022-04-23T16:40:58.771Z"
   },
   {
    "duration": 4,
    "start_time": "2022-04-23T16:41:00.003Z"
   },
   {
    "duration": 3,
    "start_time": "2022-04-23T16:41:01.349Z"
   },
   {
    "duration": 4,
    "start_time": "2022-04-23T16:41:35.584Z"
   },
   {
    "duration": 3,
    "start_time": "2022-04-23T16:41:38.322Z"
   },
   {
    "duration": 3,
    "start_time": "2022-04-23T16:41:44.190Z"
   },
   {
    "duration": 2,
    "start_time": "2022-04-23T16:43:45.636Z"
   },
   {
    "duration": 683,
    "start_time": "2022-04-23T16:43:46.578Z"
   },
   {
    "duration": 700,
    "start_time": "2022-04-23T16:44:03.432Z"
   },
   {
    "duration": 696,
    "start_time": "2022-04-23T16:44:30.818Z"
   },
   {
    "duration": 688,
    "start_time": "2022-04-23T16:45:45.332Z"
   },
   {
    "duration": 728,
    "start_time": "2022-04-23T16:46:03.636Z"
   },
   {
    "duration": 7,
    "start_time": "2022-04-23T16:48:28.123Z"
   },
   {
    "duration": 5,
    "start_time": "2022-04-23T16:49:27.084Z"
   },
   {
    "duration": 6,
    "start_time": "2022-04-23T16:50:25.835Z"
   },
   {
    "duration": 6,
    "start_time": "2022-04-23T16:50:49.701Z"
   },
   {
    "duration": 4,
    "start_time": "2022-04-23T16:50:50.834Z"
   },
   {
    "duration": 7,
    "start_time": "2022-04-23T16:50:57.566Z"
   },
   {
    "duration": 12,
    "start_time": "2022-04-23T16:51:02.969Z"
   },
   {
    "duration": 10,
    "start_time": "2022-04-23T16:51:36.703Z"
   },
   {
    "duration": 18,
    "start_time": "2022-04-23T16:51:46.838Z"
   },
   {
    "duration": 4,
    "start_time": "2022-04-23T16:51:49.063Z"
   },
   {
    "duration": 6,
    "start_time": "2022-04-23T16:51:55.730Z"
   },
   {
    "duration": 7,
    "start_time": "2022-04-23T16:52:12.185Z"
   },
   {
    "duration": 7,
    "start_time": "2022-04-23T16:52:27.815Z"
   },
   {
    "duration": 11,
    "start_time": "2022-04-23T16:52:34.915Z"
   },
   {
    "duration": 6,
    "start_time": "2022-04-23T16:52:36.235Z"
   }
  ],
  "kernelspec": {
   "display_name": "Python 3 (ipykernel)",
   "language": "python",
   "name": "python3"
  },
  "language_info": {
   "codemirror_mode": {
    "name": "ipython",
    "version": 3
   },
   "file_extension": ".py",
   "mimetype": "text/x-python",
   "name": "python",
   "nbconvert_exporter": "python",
   "pygments_lexer": "ipython3",
   "version": "3.9.5"
  },
  "toc": {
   "base_numbering": 1,
   "nav_menu": {},
   "number_sections": true,
   "sideBar": true,
   "skip_h1_title": true,
   "title_cell": "Table of Contents",
   "title_sidebar": "Contents",
   "toc_cell": false,
   "toc_position": {},
   "toc_section_display": true,
   "toc_window_display": false
  }
 },
 "nbformat": 4,
 "nbformat_minor": 2
}
